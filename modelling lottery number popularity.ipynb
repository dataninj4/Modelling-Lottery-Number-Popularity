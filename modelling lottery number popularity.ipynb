{
 "cells": [
  {
   "cell_type": "markdown",
   "metadata": {},
   "source": [
    "# Modelling Lottery Number Popularity\n"
   ]
  },
  {
   "cell_type": "markdown",
   "metadata": {},
   "source": [
    "I want to reproduce the analysis of how to optimize playing the popular german 'Lotto 6 aus 49' Lottery with Machine learning. In this lottery six numbers out of 49 are drawn without replacement; on top a super number (Superzahl) from zero to nine is drawn as well slimming the odds of winning tier #1 to 1:139,838,160.\n",
    "\n",
    "Contrary to some common belief which is also suggested by the lotteries themselves, you cannot pick certain numbers to increase your chances of winning at all. Because as we can assume (and gonna prove as well just to make sure) that the drawn number frequencies are uniformly distributed and have equal probability to be drawn, even if official number frequency statistics fed by the lottery itself are in place to make people believe one thing or another.\n",
    "\n",
    "The focus of interest however in this analysis are going to be two questions I am interested in answering:\n",
    "\n",
    "1. <strong>Which numbers are how popular among the mean lottery participant to be picked on their tickets?</strong> This is of interest because number popularity is inverse with profit share quota in all but the lowest winning tier.\n",
    "  \n",
    "2. <strong>Follow up question: In case that someone has a winning game, one really might want to be able to predict the profit share quota, being directly dependant on the popularities of the numbers being drawn.</strong> The prediction error needs to be low in order to have any use."
   ]
  },
  {
   "cell_type": "markdown",
   "metadata": {},
   "source": [
    "## Question 1: Number Popularities"
   ]
  },
  {
   "cell_type": "markdown",
   "metadata": {},
   "source": [
    "### Data wrangling"
   ]
  },
  {
   "cell_type": "markdown",
   "metadata": {},
   "source": [
    "the relevant data of the years 2017, 2018 and 2019 was downloaded from [westlotto.com](https://ergebnisse.westlotto.com/infoservice/sachsen/downloads/start.html) and processed solely as follows."
   ]
  },
  {
   "cell_type": "code",
   "execution_count": 45,
   "metadata": {},
   "outputs": [
    {
     "data": {
      "text/html": [
       "<div>\n",
       "<style scoped>\n",
       "    .dataframe tbody tr th:only-of-type {\n",
       "        vertical-align: middle;\n",
       "    }\n",
       "\n",
       "    .dataframe tbody tr th {\n",
       "        vertical-align: top;\n",
       "    }\n",
       "\n",
       "    .dataframe thead th {\n",
       "        text-align: right;\n",
       "    }\n",
       "</style>\n",
       "<table border=\"1\" class=\"dataframe\">\n",
       "  <thead>\n",
       "    <tr style=\"text-align: right;\">\n",
       "      <th></th>\n",
       "      <th>G1</th>\n",
       "      <th>G2</th>\n",
       "      <th>G3</th>\n",
       "      <th>G4</th>\n",
       "      <th>G5</th>\n",
       "      <th>G6</th>\n",
       "      <th>S</th>\n",
       "      <th>Spieleinsatz</th>\n",
       "      <th>Anz. Kl. 1</th>\n",
       "      <th>Quote Kl. 1</th>\n",
       "      <th>...</th>\n",
       "      <th>Anz. Kl. 5</th>\n",
       "      <th>Quote Kl. 5</th>\n",
       "      <th>Anz. Kl. 6</th>\n",
       "      <th>Quote Kl. 6</th>\n",
       "      <th>Anz. Kl. 7</th>\n",
       "      <th>Quote Kl. 7</th>\n",
       "      <th>Anz. Kl. 8</th>\n",
       "      <th>Quote Kl. 8</th>\n",
       "      <th>Anz. Kl. 9</th>\n",
       "      <th>Quote Kl. 9</th>\n",
       "    </tr>\n",
       "    <tr>\n",
       "      <th>Date</th>\n",
       "      <th></th>\n",
       "      <th></th>\n",
       "      <th></th>\n",
       "      <th></th>\n",
       "      <th></th>\n",
       "      <th></th>\n",
       "      <th></th>\n",
       "      <th></th>\n",
       "      <th></th>\n",
       "      <th></th>\n",
       "      <th></th>\n",
       "      <th></th>\n",
       "      <th></th>\n",
       "      <th></th>\n",
       "      <th></th>\n",
       "      <th></th>\n",
       "      <th></th>\n",
       "      <th></th>\n",
       "      <th></th>\n",
       "      <th></th>\n",
       "      <th></th>\n",
       "    </tr>\n",
       "  </thead>\n",
       "  <tbody>\n",
       "    <tr>\n",
       "      <th>2017-01-04</th>\n",
       "      <td>48</td>\n",
       "      <td>5</td>\n",
       "      <td>39</td>\n",
       "      <td>37</td>\n",
       "      <td>21</td>\n",
       "      <td>13</td>\n",
       "      <td>2</td>\n",
       "      <td>25783219.0</td>\n",
       "      <td>0.0</td>\n",
       "      <td>15050011.5</td>\n",
       "      <td>...</td>\n",
       "      <td>2095.0</td>\n",
       "      <td>232.4</td>\n",
       "      <td>20070.0</td>\n",
       "      <td>48.5</td>\n",
       "      <td>38274.0</td>\n",
       "      <td>25.4</td>\n",
       "      <td>384520.0</td>\n",
       "      <td>11.3</td>\n",
       "      <td>300502.0</td>\n",
       "      <td>5.0</td>\n",
       "    </tr>\n",
       "    <tr>\n",
       "      <th>2017-01-07</th>\n",
       "      <td>22</td>\n",
       "      <td>12</td>\n",
       "      <td>14</td>\n",
       "      <td>45</td>\n",
       "      <td>17</td>\n",
       "      <td>46</td>\n",
       "      <td>7</td>\n",
       "      <td>51173316.0</td>\n",
       "      <td>0.0</td>\n",
       "      <td>18325103.7</td>\n",
       "      <td>...</td>\n",
       "      <td>3920.0</td>\n",
       "      <td>238.5</td>\n",
       "      <td>29806.0</td>\n",
       "      <td>62.7</td>\n",
       "      <td>83095.0</td>\n",
       "      <td>22.5</td>\n",
       "      <td>649804.0</td>\n",
       "      <td>12.9</td>\n",
       "      <td>721377.0</td>\n",
       "      <td>5.0</td>\n",
       "    </tr>\n",
       "    <tr>\n",
       "      <th>2017-01-11</th>\n",
       "      <td>29</td>\n",
       "      <td>32</td>\n",
       "      <td>27</td>\n",
       "      <td>38</td>\n",
       "      <td>34</td>\n",
       "      <td>20</td>\n",
       "      <td>1</td>\n",
       "      <td>27596782.0</td>\n",
       "      <td>0.0</td>\n",
       "      <td>20091297.7</td>\n",
       "      <td>...</td>\n",
       "      <td>1957.0</td>\n",
       "      <td>269.0</td>\n",
       "      <td>19792.0</td>\n",
       "      <td>53.1</td>\n",
       "      <td>37841.0</td>\n",
       "      <td>27.8</td>\n",
       "      <td>402259.0</td>\n",
       "      <td>11.7</td>\n",
       "      <td>300590.0</td>\n",
       "      <td>5.0</td>\n",
       "    </tr>\n",
       "    <tr>\n",
       "      <th>2017-01-14</th>\n",
       "      <td>23</td>\n",
       "      <td>37</td>\n",
       "      <td>27</td>\n",
       "      <td>4</td>\n",
       "      <td>3</td>\n",
       "      <td>28</td>\n",
       "      <td>3</td>\n",
       "      <td>54716507.0</td>\n",
       "      <td>0.0</td>\n",
       "      <td>23593154.1</td>\n",
       "      <td>...</td>\n",
       "      <td>5342.0</td>\n",
       "      <td>185.2</td>\n",
       "      <td>44154.0</td>\n",
       "      <td>44.8</td>\n",
       "      <td>109456.0</td>\n",
       "      <td>18.0</td>\n",
       "      <td>902208.0</td>\n",
       "      <td>9.8</td>\n",
       "      <td>813548.0</td>\n",
       "      <td>5.0</td>\n",
       "    </tr>\n",
       "    <tr>\n",
       "      <th>2017-01-18</th>\n",
       "      <td>39</td>\n",
       "      <td>40</td>\n",
       "      <td>10</td>\n",
       "      <td>28</td>\n",
       "      <td>11</td>\n",
       "      <td>13</td>\n",
       "      <td>1</td>\n",
       "      <td>29278479.0</td>\n",
       "      <td>0.0</td>\n",
       "      <td>25466976.7</td>\n",
       "      <td>...</td>\n",
       "      <td>2685.0</td>\n",
       "      <td>204.6</td>\n",
       "      <td>26879.0</td>\n",
       "      <td>40.8</td>\n",
       "      <td>47706.0</td>\n",
       "      <td>23.0</td>\n",
       "      <td>496024.0</td>\n",
       "      <td>9.9</td>\n",
       "      <td>355380.0</td>\n",
       "      <td>5.0</td>\n",
       "    </tr>\n",
       "  </tbody>\n",
       "</table>\n",
       "<p>5 rows × 26 columns</p>\n",
       "</div>"
      ],
      "text/plain": [
       "            G1  G2  G3  G4  G5  G6  S  Spieleinsatz  Anz. Kl. 1  Quote Kl. 1  \\\n",
       "Date                                                                           \n",
       "2017-01-04  48   5  39  37  21  13  2    25783219.0         0.0   15050011.5   \n",
       "2017-01-07  22  12  14  45  17  46  7    51173316.0         0.0   18325103.7   \n",
       "2017-01-11  29  32  27  38  34  20  1    27596782.0         0.0   20091297.7   \n",
       "2017-01-14  23  37  27   4   3  28  3    54716507.0         0.0   23593154.1   \n",
       "2017-01-18  39  40  10  28  11  13  1    29278479.0         0.0   25466976.7   \n",
       "\n",
       "            ...  Anz. Kl. 5  Quote Kl. 5  Anz. Kl. 6  Quote Kl. 6  Anz. Kl. 7  \\\n",
       "Date        ...                                                                 \n",
       "2017-01-04  ...      2095.0        232.4     20070.0         48.5     38274.0   \n",
       "2017-01-07  ...      3920.0        238.5     29806.0         62.7     83095.0   \n",
       "2017-01-11  ...      1957.0        269.0     19792.0         53.1     37841.0   \n",
       "2017-01-14  ...      5342.0        185.2     44154.0         44.8    109456.0   \n",
       "2017-01-18  ...      2685.0        204.6     26879.0         40.8     47706.0   \n",
       "\n",
       "            Quote Kl. 7  Anz. Kl. 8  Quote Kl. 8  Anz. Kl. 9  Quote Kl. 9  \n",
       "Date                                                                       \n",
       "2017-01-04         25.4    384520.0         11.3    300502.0          5.0  \n",
       "2017-01-07         22.5    649804.0         12.9    721377.0          5.0  \n",
       "2017-01-11         27.8    402259.0         11.7    300590.0          5.0  \n",
       "2017-01-14         18.0    902208.0          9.8    813548.0          5.0  \n",
       "2017-01-18         23.0    496024.0          9.9    355380.0          5.0  \n",
       "\n",
       "[5 rows x 26 columns]"
      ]
     },
     "execution_count": 45,
     "metadata": {},
     "output_type": "execute_result"
    }
   ],
   "source": [
    "import pandas as pd\n",
    "\n",
    "def pre19import(yearstring):\n",
    "    df = pd.read_excel('LOTTO6aus49.xls', sheet_name=yearstring, skiprows=6, parse_dates=[0])\n",
    "    df = df.drop(range(52,60),axis=0).copy()\n",
    "    df.rename(columns = {'Unnamed: 1':'Date'}, inplace = True) \n",
    "    pd.to_datetime(df['Date']).apply(lambda x: x.date())\n",
    "    df.set_index([\"Date\"], inplace = True)\n",
    "    df.drop(df.columns[[0,1]], axis=1,inplace=True)\n",
    "    df['Quote Kl. 9'] = 5\n",
    "    df.columns = ['G1', 'G2', 'G3', 'G4', 'G5', 'G6', 'S', 'Spieleinsatz', 'Anz. Kl. 1',\n",
    "           'Quote Kl. 1', 'Anz. Kl. 2', 'Quote Kl. 2', 'Anz. Kl. 3', 'Quote Kl. 3',\n",
    "           'Anz. Kl. 4', 'Quote Kl. 4', 'Anz. Kl. 5', 'Quote Kl. 5', 'Anz. Kl. 6',\n",
    "           'Quote Kl. 6', 'Anz. Kl. 7', 'Quote Kl. 7', 'Anz. Kl. 8', 'Quote Kl. 8',\n",
    "           'Anz. Kl. 9', 'Quote Kl. 9']\n",
    "    df = df.replace({'Jackpot': 0, 'JP': 0, 'unbesetzt': 0}, regex=False)\n",
    "    for c in df.columns:\n",
    "        df[c] =  df[c].astype(float)\n",
    "    for c in ['G1', 'G2', 'G3', 'G4', 'G5', 'G6', 'S']:\n",
    "        df[c] =  df[c].astype(int)\n",
    "    return df\n",
    "\n",
    "df2017 = pre19import('2017')\n",
    "df2018 = pre19import('2018')\n",
    "\n",
    "df2017.head(5)"
   ]
  },
  {
   "cell_type": "code",
   "execution_count": 46,
   "metadata": {
    "scrolled": true
   },
   "outputs": [],
   "source": [
    "df19 = pd.read_excel('LOTTO_ab_2019.xls',  index_col=0, parse_dates=[0], decimal=\",\", thousands='.')\n",
    "df19.drop(df19.columns[[0,7,8,10,11]], axis=1,inplace=True)\n",
    "df19 = df19.iloc[0:-4,:].copy()\n",
    "df19.columns = ['G1', 'G2', 'G3', 'G4', 'G5', 'G6', 'S', 'Spieleinsatz', 'Anz. Kl. 1',\n",
    "           'Quote Kl. 1', 'Anz. Kl. 2', 'Quote Kl. 2', 'Anz. Kl. 3', 'Quote Kl. 3',\n",
    "           'Anz. Kl. 4', 'Quote Kl. 4', 'Anz. Kl. 5', 'Quote Kl. 5', 'Anz. Kl. 6',\n",
    "           'Quote Kl. 6', 'Anz. Kl. 7', 'Quote Kl. 7', 'Anz. Kl. 8', 'Quote Kl. 8',\n",
    "           'Anz. Kl. 9', 'Quote Kl. 9']\n",
    "df19 = df19.replace({'Jackpot': 0, 'JP': 0, 'unbesetzt': 0}, regex=False)\n",
    "for c in ['G1', 'G2', 'G3', 'G4', 'G5', 'G6', 'S']:\n",
    "    df19[c] =  df19[c].astype(int)\n"
   ]
  },
  {
   "cell_type": "code",
   "execution_count": 47,
   "metadata": {
    "scrolled": true
   },
   "outputs": [
    {
     "data": {
      "text/plain": [
       "(104, 26)"
      ]
     },
     "execution_count": 47,
     "metadata": {},
     "output_type": "execute_result"
    }
   ],
   "source": [
    "df19.shape"
   ]
  },
  {
   "cell_type": "code",
   "execution_count": 48,
   "metadata": {
    "scrolled": true
   },
   "outputs": [
    {
     "name": "stdout",
     "output_type": "stream",
     "text": [
      "(312, 26)\n"
     ]
    }
   ],
   "source": [
    "df = pd.concat([df2017, df2018, df19])\n",
    "print(df.shape)"
   ]
  },
  {
   "cell_type": "code",
   "execution_count": 49,
   "metadata": {
    "scrolled": true
   },
   "outputs": [
    {
     "data": {
      "text/html": [
       "<div>\n",
       "<style scoped>\n",
       "    .dataframe tbody tr th:only-of-type {\n",
       "        vertical-align: middle;\n",
       "    }\n",
       "\n",
       "    .dataframe tbody tr th {\n",
       "        vertical-align: top;\n",
       "    }\n",
       "\n",
       "    .dataframe thead th {\n",
       "        text-align: right;\n",
       "    }\n",
       "</style>\n",
       "<table border=\"1\" class=\"dataframe\">\n",
       "  <thead>\n",
       "    <tr style=\"text-align: right;\">\n",
       "      <th></th>\n",
       "      <th>G1</th>\n",
       "      <th>G2</th>\n",
       "      <th>G3</th>\n",
       "      <th>G4</th>\n",
       "      <th>G5</th>\n",
       "      <th>G6</th>\n",
       "      <th>S</th>\n",
       "      <th>Spieleinsatz</th>\n",
       "      <th>Anz. Kl. 3</th>\n",
       "      <th>Quote Kl. 3</th>\n",
       "      <th>...</th>\n",
       "      <th>Anz. Kl. 5</th>\n",
       "      <th>Quote Kl. 5</th>\n",
       "      <th>Anz. Kl. 6</th>\n",
       "      <th>Quote Kl. 6</th>\n",
       "      <th>Anz. Kl. 7</th>\n",
       "      <th>Quote Kl. 7</th>\n",
       "      <th>Anz. Kl. 8</th>\n",
       "      <th>Quote Kl. 8</th>\n",
       "      <th>Anz. Kl. 9</th>\n",
       "      <th>Quote Kl. 9</th>\n",
       "    </tr>\n",
       "  </thead>\n",
       "  <tbody>\n",
       "    <tr>\n",
       "      <th>count</th>\n",
       "      <td>312.000000</td>\n",
       "      <td>312.000000</td>\n",
       "      <td>312.000000</td>\n",
       "      <td>312.000000</td>\n",
       "      <td>312.000000</td>\n",
       "      <td>312.000000</td>\n",
       "      <td>312.000000</td>\n",
       "      <td>3.120000e+02</td>\n",
       "      <td>312.000000</td>\n",
       "      <td>312.000000</td>\n",
       "      <td>...</td>\n",
       "      <td>312.000000</td>\n",
       "      <td>312.000000</td>\n",
       "      <td>312.000000</td>\n",
       "      <td>312.000000</td>\n",
       "      <td>312.000000</td>\n",
       "      <td>312.000000</td>\n",
       "      <td>3.120000e+02</td>\n",
       "      <td>312.000000</td>\n",
       "      <td>312.000000</td>\n",
       "      <td>312.0</td>\n",
       "    </tr>\n",
       "    <tr>\n",
       "      <th>mean</th>\n",
       "      <td>25.657051</td>\n",
       "      <td>24.881410</td>\n",
       "      <td>25.185897</td>\n",
       "      <td>24.778846</td>\n",
       "      <td>24.326923</td>\n",
       "      <td>25.349359</td>\n",
       "      <td>4.692308</td>\n",
       "      <td>3.438957e+07</td>\n",
       "      <td>64.368590</td>\n",
       "      <td>11899.456090</td>\n",
       "      <td>...</td>\n",
       "      <td>3396.801282</td>\n",
       "      <td>201.160577</td>\n",
       "      <td>30022.865385</td>\n",
       "      <td>44.489103</td>\n",
       "      <td>61674.205128</td>\n",
       "      <td>21.348397</td>\n",
       "      <td>5.467567e+05</td>\n",
       "      <td>10.595513</td>\n",
       "      <td>461666.301282</td>\n",
       "      <td>5.0</td>\n",
       "    </tr>\n",
       "    <tr>\n",
       "      <th>std</th>\n",
       "      <td>14.224238</td>\n",
       "      <td>14.183072</td>\n",
       "      <td>14.542013</td>\n",
       "      <td>14.244956</td>\n",
       "      <td>13.838835</td>\n",
       "      <td>13.911632</td>\n",
       "      <td>2.787467</td>\n",
       "      <td>1.199418e+07</td>\n",
       "      <td>41.751701</td>\n",
       "      <td>4955.349056</td>\n",
       "      <td>...</td>\n",
       "      <td>1605.650050</td>\n",
       "      <td>54.818954</td>\n",
       "      <td>13052.189116</td>\n",
       "      <td>10.122555</td>\n",
       "      <td>25253.834506</td>\n",
       "      <td>4.497988</td>\n",
       "      <td>2.077233e+05</td>\n",
       "      <td>1.580421</td>\n",
       "      <td>176109.509368</td>\n",
       "      <td>0.0</td>\n",
       "    </tr>\n",
       "    <tr>\n",
       "      <th>min</th>\n",
       "      <td>1.000000</td>\n",
       "      <td>1.000000</td>\n",
       "      <td>1.000000</td>\n",
       "      <td>1.000000</td>\n",
       "      <td>1.000000</td>\n",
       "      <td>1.000000</td>\n",
       "      <td>0.000000</td>\n",
       "      <td>1.919371e+07</td>\n",
       "      <td>14.000000</td>\n",
       "      <td>2452.500000</td>\n",
       "      <td>...</td>\n",
       "      <td>1296.000000</td>\n",
       "      <td>60.700000</td>\n",
       "      <td>12372.000000</td>\n",
       "      <td>19.100000</td>\n",
       "      <td>25526.000000</td>\n",
       "      <td>9.700000</td>\n",
       "      <td>2.587140e+05</td>\n",
       "      <td>6.400000</td>\n",
       "      <td>206333.000000</td>\n",
       "      <td>5.0</td>\n",
       "    </tr>\n",
       "    <tr>\n",
       "      <th>25%</th>\n",
       "      <td>13.750000</td>\n",
       "      <td>13.000000</td>\n",
       "      <td>12.000000</td>\n",
       "      <td>13.000000</td>\n",
       "      <td>13.000000</td>\n",
       "      <td>13.000000</td>\n",
       "      <td>2.000000</td>\n",
       "      <td>2.204758e+07</td>\n",
       "      <td>36.000000</td>\n",
       "      <td>8292.525000</td>\n",
       "      <td>...</td>\n",
       "      <td>2148.000000</td>\n",
       "      <td>159.050000</td>\n",
       "      <td>19090.750000</td>\n",
       "      <td>36.775000</td>\n",
       "      <td>39751.000000</td>\n",
       "      <td>18.200000</td>\n",
       "      <td>3.572440e+05</td>\n",
       "      <td>9.500000</td>\n",
       "      <td>299849.000000</td>\n",
       "      <td>5.0</td>\n",
       "    </tr>\n",
       "    <tr>\n",
       "      <th>50%</th>\n",
       "      <td>26.000000</td>\n",
       "      <td>25.000000</td>\n",
       "      <td>26.000000</td>\n",
       "      <td>25.000000</td>\n",
       "      <td>24.000000</td>\n",
       "      <td>26.000000</td>\n",
       "      <td>5.000000</td>\n",
       "      <td>3.926879e+07</td>\n",
       "      <td>53.000000</td>\n",
       "      <td>11223.100000</td>\n",
       "      <td>...</td>\n",
       "      <td>3036.000000</td>\n",
       "      <td>200.050000</td>\n",
       "      <td>27313.500000</td>\n",
       "      <td>44.000000</td>\n",
       "      <td>57392.000000</td>\n",
       "      <td>21.050000</td>\n",
       "      <td>5.480480e+05</td>\n",
       "      <td>10.600000</td>\n",
       "      <td>434740.000000</td>\n",
       "      <td>5.0</td>\n",
       "    </tr>\n",
       "    <tr>\n",
       "      <th>75%</th>\n",
       "      <td>38.000000</td>\n",
       "      <td>37.000000</td>\n",
       "      <td>37.250000</td>\n",
       "      <td>37.000000</td>\n",
       "      <td>35.000000</td>\n",
       "      <td>36.250000</td>\n",
       "      <td>7.000000</td>\n",
       "      <td>4.513643e+07</td>\n",
       "      <td>79.250000</td>\n",
       "      <td>14531.050000</td>\n",
       "      <td>...</td>\n",
       "      <td>4198.250000</td>\n",
       "      <td>236.075000</td>\n",
       "      <td>38337.500000</td>\n",
       "      <td>51.900000</td>\n",
       "      <td>80466.750000</td>\n",
       "      <td>24.225000</td>\n",
       "      <td>7.141132e+05</td>\n",
       "      <td>11.700000</td>\n",
       "      <td>616137.750000</td>\n",
       "      <td>5.0</td>\n",
       "    </tr>\n",
       "    <tr>\n",
       "      <th>max</th>\n",
       "      <td>49.000000</td>\n",
       "      <td>49.000000</td>\n",
       "      <td>49.000000</td>\n",
       "      <td>49.000000</td>\n",
       "      <td>49.000000</td>\n",
       "      <td>49.000000</td>\n",
       "      <td>9.000000</td>\n",
       "      <td>6.136400e+07</td>\n",
       "      <td>316.000000</td>\n",
       "      <td>32911.200000</td>\n",
       "      <td>...</td>\n",
       "      <td>12199.000000</td>\n",
       "      <td>351.500000</td>\n",
       "      <td>77355.000000</td>\n",
       "      <td>73.100000</td>\n",
       "      <td>151438.000000</td>\n",
       "      <td>34.800000</td>\n",
       "      <td>1.104307e+06</td>\n",
       "      <td>15.000000</td>\n",
       "      <td>919597.000000</td>\n",
       "      <td>5.0</td>\n",
       "    </tr>\n",
       "  </tbody>\n",
       "</table>\n",
       "<p>8 rows × 22 columns</p>\n",
       "</div>"
      ],
      "text/plain": [
       "               G1          G2          G3          G4          G5          G6  \\\n",
       "count  312.000000  312.000000  312.000000  312.000000  312.000000  312.000000   \n",
       "mean    25.657051   24.881410   25.185897   24.778846   24.326923   25.349359   \n",
       "std     14.224238   14.183072   14.542013   14.244956   13.838835   13.911632   \n",
       "min      1.000000    1.000000    1.000000    1.000000    1.000000    1.000000   \n",
       "25%     13.750000   13.000000   12.000000   13.000000   13.000000   13.000000   \n",
       "50%     26.000000   25.000000   26.000000   25.000000   24.000000   26.000000   \n",
       "75%     38.000000   37.000000   37.250000   37.000000   35.000000   36.250000   \n",
       "max     49.000000   49.000000   49.000000   49.000000   49.000000   49.000000   \n",
       "\n",
       "                S  Spieleinsatz  Anz. Kl. 3   Quote Kl. 3  ...    Anz. Kl. 5  \\\n",
       "count  312.000000  3.120000e+02  312.000000    312.000000  ...    312.000000   \n",
       "mean     4.692308  3.438957e+07   64.368590  11899.456090  ...   3396.801282   \n",
       "std      2.787467  1.199418e+07   41.751701   4955.349056  ...   1605.650050   \n",
       "min      0.000000  1.919371e+07   14.000000   2452.500000  ...   1296.000000   \n",
       "25%      2.000000  2.204758e+07   36.000000   8292.525000  ...   2148.000000   \n",
       "50%      5.000000  3.926879e+07   53.000000  11223.100000  ...   3036.000000   \n",
       "75%      7.000000  4.513643e+07   79.250000  14531.050000  ...   4198.250000   \n",
       "max      9.000000  6.136400e+07  316.000000  32911.200000  ...  12199.000000   \n",
       "\n",
       "       Quote Kl. 5    Anz. Kl. 6  Quote Kl. 6     Anz. Kl. 7  Quote Kl. 7  \\\n",
       "count   312.000000    312.000000   312.000000     312.000000   312.000000   \n",
       "mean    201.160577  30022.865385    44.489103   61674.205128    21.348397   \n",
       "std      54.818954  13052.189116    10.122555   25253.834506     4.497988   \n",
       "min      60.700000  12372.000000    19.100000   25526.000000     9.700000   \n",
       "25%     159.050000  19090.750000    36.775000   39751.000000    18.200000   \n",
       "50%     200.050000  27313.500000    44.000000   57392.000000    21.050000   \n",
       "75%     236.075000  38337.500000    51.900000   80466.750000    24.225000   \n",
       "max     351.500000  77355.000000    73.100000  151438.000000    34.800000   \n",
       "\n",
       "         Anz. Kl. 8  Quote Kl. 8     Anz. Kl. 9  Quote Kl. 9  \n",
       "count  3.120000e+02   312.000000     312.000000        312.0  \n",
       "mean   5.467567e+05    10.595513  461666.301282          5.0  \n",
       "std    2.077233e+05     1.580421  176109.509368          0.0  \n",
       "min    2.587140e+05     6.400000  206333.000000          5.0  \n",
       "25%    3.572440e+05     9.500000  299849.000000          5.0  \n",
       "50%    5.480480e+05    10.600000  434740.000000          5.0  \n",
       "75%    7.141132e+05    11.700000  616137.750000          5.0  \n",
       "max    1.104307e+06    15.000000  919597.000000          5.0  \n",
       "\n",
       "[8 rows x 22 columns]"
      ]
     },
     "execution_count": 49,
     "metadata": {},
     "output_type": "execute_result"
    }
   ],
   "source": [
    "df.describe()"
   ]
  },
  {
   "cell_type": "code",
   "execution_count": 50,
   "metadata": {
    "scrolled": true
   },
   "outputs": [],
   "source": [
    "import numpy as np\n",
    "#dfclass8 = df.iloc[:,np.r_[0:6,7,23:25]]\n",
    "dfclass8 = pd.DataFrame()\n",
    "dfclass8 = df.iloc[:,np.r_[0:6,23:24]].copy()\n",
    "dfclass8.rename(columns = {'Quote Kl. 8':'quota_EUR_8'}, inplace=True)\n",
    "\n",
    "# Winning class 6 + 8\n",
    "dfclass6_8 = df.iloc[:,np.r_[0:6,19:20,23:24]].copy()\n",
    "dfclass6_8.rename(columns = {'Quote Kl. 6':'quota_EUR_6'}, inplace=True)\n",
    "dfclass6_8.rename(columns = {'Quote Kl. 8':'quota_EUR_8'}, inplace=True)\n",
    "\n",
    "# Winning class 7 for 'Superzahl' analysis\n",
    "dfclass7 = df.iloc[:,np.r_[6,21:22]].copy()\n",
    "dfclass7.rename(columns = {'Quote Kl. 7':'quota_EUR_7'}, inplace=True)\n",
    "dfclass7.rename(columns = {'S':'Superzahl'}, inplace=True)\n",
    "\n",
    "# Winning class 5 for 'Superzahl' analysis\n",
    "dfclass5 = df.iloc[:,np.r_[6,17:18]].copy()\n",
    "dfclass5.rename(columns = {'Quote Kl. 5':'quota_EUR_5'}, inplace=True)\n",
    "dfclass5.rename(columns = {'S':'Superzahl'}, inplace=True)"
   ]
  },
  {
   "cell_type": "code",
   "execution_count": 51,
   "metadata": {},
   "outputs": [],
   "source": [
    "def sparsedf(df, numbers=6, pop=49): # custom hot encoding\n",
    "    for i in range(1,pop+1):\n",
    "        df.loc[:,'N' + str(i)] = pd.Series(np.zeros((len(df)))) #sparse cols\n",
    "    df = df.fillna(0) # zero prefilled\n",
    "    num = range(1,numbers+1)\n",
    " \n",
    "    for index, row in df.iterrows(): # each drawing\n",
    "        for h in num: # each drawn number\n",
    "            dn = df.iloc[index,h].copy()\n",
    "            df.loc[index,'N' + str(dn)] = 1 # sparsing\n",
    "    return df"
   ]
  },
  {
   "cell_type": "code",
   "execution_count": 52,
   "metadata": {},
   "outputs": [
    {
     "data": {
      "text/html": [
       "<div>\n",
       "<style scoped>\n",
       "    .dataframe tbody tr th:only-of-type {\n",
       "        vertical-align: middle;\n",
       "    }\n",
       "\n",
       "    .dataframe tbody tr th {\n",
       "        vertical-align: top;\n",
       "    }\n",
       "\n",
       "    .dataframe thead th {\n",
       "        text-align: right;\n",
       "    }\n",
       "</style>\n",
       "<table border=\"1\" class=\"dataframe\">\n",
       "  <thead>\n",
       "    <tr style=\"text-align: right;\">\n",
       "      <th></th>\n",
       "      <th>index</th>\n",
       "      <th>G1</th>\n",
       "      <th>G2</th>\n",
       "      <th>G3</th>\n",
       "      <th>G4</th>\n",
       "      <th>G5</th>\n",
       "      <th>G6</th>\n",
       "      <th>quota_EUR_8</th>\n",
       "      <th>N1</th>\n",
       "      <th>N2</th>\n",
       "      <th>...</th>\n",
       "      <th>N40</th>\n",
       "      <th>N41</th>\n",
       "      <th>N42</th>\n",
       "      <th>N43</th>\n",
       "      <th>N44</th>\n",
       "      <th>N45</th>\n",
       "      <th>N46</th>\n",
       "      <th>N47</th>\n",
       "      <th>N48</th>\n",
       "      <th>N49</th>\n",
       "    </tr>\n",
       "  </thead>\n",
       "  <tbody>\n",
       "    <tr>\n",
       "      <th>0</th>\n",
       "      <td>2017-01-04 00:00:00</td>\n",
       "      <td>48</td>\n",
       "      <td>5</td>\n",
       "      <td>39</td>\n",
       "      <td>37</td>\n",
       "      <td>21</td>\n",
       "      <td>13</td>\n",
       "      <td>11.3</td>\n",
       "      <td>0.0</td>\n",
       "      <td>0.0</td>\n",
       "      <td>...</td>\n",
       "      <td>0.0</td>\n",
       "      <td>0.0</td>\n",
       "      <td>0.0</td>\n",
       "      <td>0.0</td>\n",
       "      <td>0.0</td>\n",
       "      <td>0.0</td>\n",
       "      <td>0.0</td>\n",
       "      <td>0.0</td>\n",
       "      <td>1.0</td>\n",
       "      <td>0.0</td>\n",
       "    </tr>\n",
       "    <tr>\n",
       "      <th>1</th>\n",
       "      <td>2017-01-07 00:00:00</td>\n",
       "      <td>22</td>\n",
       "      <td>12</td>\n",
       "      <td>14</td>\n",
       "      <td>45</td>\n",
       "      <td>17</td>\n",
       "      <td>46</td>\n",
       "      <td>12.9</td>\n",
       "      <td>0.0</td>\n",
       "      <td>0.0</td>\n",
       "      <td>...</td>\n",
       "      <td>0.0</td>\n",
       "      <td>0.0</td>\n",
       "      <td>0.0</td>\n",
       "      <td>0.0</td>\n",
       "      <td>0.0</td>\n",
       "      <td>1.0</td>\n",
       "      <td>1.0</td>\n",
       "      <td>0.0</td>\n",
       "      <td>0.0</td>\n",
       "      <td>0.0</td>\n",
       "    </tr>\n",
       "    <tr>\n",
       "      <th>2</th>\n",
       "      <td>2017-01-11 00:00:00</td>\n",
       "      <td>29</td>\n",
       "      <td>32</td>\n",
       "      <td>27</td>\n",
       "      <td>38</td>\n",
       "      <td>34</td>\n",
       "      <td>20</td>\n",
       "      <td>11.7</td>\n",
       "      <td>0.0</td>\n",
       "      <td>0.0</td>\n",
       "      <td>...</td>\n",
       "      <td>0.0</td>\n",
       "      <td>0.0</td>\n",
       "      <td>0.0</td>\n",
       "      <td>0.0</td>\n",
       "      <td>0.0</td>\n",
       "      <td>0.0</td>\n",
       "      <td>0.0</td>\n",
       "      <td>0.0</td>\n",
       "      <td>0.0</td>\n",
       "      <td>0.0</td>\n",
       "    </tr>\n",
       "    <tr>\n",
       "      <th>3</th>\n",
       "      <td>2017-01-14 00:00:00</td>\n",
       "      <td>23</td>\n",
       "      <td>37</td>\n",
       "      <td>27</td>\n",
       "      <td>4</td>\n",
       "      <td>3</td>\n",
       "      <td>28</td>\n",
       "      <td>9.8</td>\n",
       "      <td>0.0</td>\n",
       "      <td>0.0</td>\n",
       "      <td>...</td>\n",
       "      <td>0.0</td>\n",
       "      <td>0.0</td>\n",
       "      <td>0.0</td>\n",
       "      <td>0.0</td>\n",
       "      <td>0.0</td>\n",
       "      <td>0.0</td>\n",
       "      <td>0.0</td>\n",
       "      <td>0.0</td>\n",
       "      <td>0.0</td>\n",
       "      <td>0.0</td>\n",
       "    </tr>\n",
       "    <tr>\n",
       "      <th>4</th>\n",
       "      <td>2017-01-18 00:00:00</td>\n",
       "      <td>39</td>\n",
       "      <td>40</td>\n",
       "      <td>10</td>\n",
       "      <td>28</td>\n",
       "      <td>11</td>\n",
       "      <td>13</td>\n",
       "      <td>9.9</td>\n",
       "      <td>0.0</td>\n",
       "      <td>0.0</td>\n",
       "      <td>...</td>\n",
       "      <td>1.0</td>\n",
       "      <td>0.0</td>\n",
       "      <td>0.0</td>\n",
       "      <td>0.0</td>\n",
       "      <td>0.0</td>\n",
       "      <td>0.0</td>\n",
       "      <td>0.0</td>\n",
       "      <td>0.0</td>\n",
       "      <td>0.0</td>\n",
       "      <td>0.0</td>\n",
       "    </tr>\n",
       "    <tr>\n",
       "      <th>...</th>\n",
       "      <td>...</td>\n",
       "      <td>...</td>\n",
       "      <td>...</td>\n",
       "      <td>...</td>\n",
       "      <td>...</td>\n",
       "      <td>...</td>\n",
       "      <td>...</td>\n",
       "      <td>...</td>\n",
       "      <td>...</td>\n",
       "      <td>...</td>\n",
       "      <td>...</td>\n",
       "      <td>...</td>\n",
       "      <td>...</td>\n",
       "      <td>...</td>\n",
       "      <td>...</td>\n",
       "      <td>...</td>\n",
       "      <td>...</td>\n",
       "      <td>...</td>\n",
       "      <td>...</td>\n",
       "      <td>...</td>\n",
       "      <td>...</td>\n",
       "    </tr>\n",
       "    <tr>\n",
       "      <th>307</th>\n",
       "      <td>14.12.2019</td>\n",
       "      <td>4</td>\n",
       "      <td>20</td>\n",
       "      <td>31</td>\n",
       "      <td>16</td>\n",
       "      <td>38</td>\n",
       "      <td>34</td>\n",
       "      <td>9.9</td>\n",
       "      <td>0.0</td>\n",
       "      <td>0.0</td>\n",
       "      <td>...</td>\n",
       "      <td>0.0</td>\n",
       "      <td>0.0</td>\n",
       "      <td>0.0</td>\n",
       "      <td>0.0</td>\n",
       "      <td>0.0</td>\n",
       "      <td>0.0</td>\n",
       "      <td>0.0</td>\n",
       "      <td>0.0</td>\n",
       "      <td>0.0</td>\n",
       "      <td>0.0</td>\n",
       "    </tr>\n",
       "    <tr>\n",
       "      <th>308</th>\n",
       "      <td>18.12.2019</td>\n",
       "      <td>25</td>\n",
       "      <td>42</td>\n",
       "      <td>6</td>\n",
       "      <td>48</td>\n",
       "      <td>20</td>\n",
       "      <td>19</td>\n",
       "      <td>10.9</td>\n",
       "      <td>0.0</td>\n",
       "      <td>0.0</td>\n",
       "      <td>...</td>\n",
       "      <td>0.0</td>\n",
       "      <td>0.0</td>\n",
       "      <td>1.0</td>\n",
       "      <td>0.0</td>\n",
       "      <td>0.0</td>\n",
       "      <td>0.0</td>\n",
       "      <td>0.0</td>\n",
       "      <td>0.0</td>\n",
       "      <td>1.0</td>\n",
       "      <td>0.0</td>\n",
       "    </tr>\n",
       "    <tr>\n",
       "      <th>309</th>\n",
       "      <td>21.12.2019</td>\n",
       "      <td>27</td>\n",
       "      <td>4</td>\n",
       "      <td>13</td>\n",
       "      <td>14</td>\n",
       "      <td>35</td>\n",
       "      <td>20</td>\n",
       "      <td>12.6</td>\n",
       "      <td>0.0</td>\n",
       "      <td>0.0</td>\n",
       "      <td>...</td>\n",
       "      <td>0.0</td>\n",
       "      <td>0.0</td>\n",
       "      <td>0.0</td>\n",
       "      <td>0.0</td>\n",
       "      <td>0.0</td>\n",
       "      <td>0.0</td>\n",
       "      <td>0.0</td>\n",
       "      <td>0.0</td>\n",
       "      <td>0.0</td>\n",
       "      <td>0.0</td>\n",
       "    </tr>\n",
       "    <tr>\n",
       "      <th>310</th>\n",
       "      <td>25.12.2019</td>\n",
       "      <td>47</td>\n",
       "      <td>41</td>\n",
       "      <td>33</td>\n",
       "      <td>36</td>\n",
       "      <td>22</td>\n",
       "      <td>17</td>\n",
       "      <td>10.5</td>\n",
       "      <td>0.0</td>\n",
       "      <td>0.0</td>\n",
       "      <td>...</td>\n",
       "      <td>0.0</td>\n",
       "      <td>1.0</td>\n",
       "      <td>0.0</td>\n",
       "      <td>0.0</td>\n",
       "      <td>0.0</td>\n",
       "      <td>0.0</td>\n",
       "      <td>0.0</td>\n",
       "      <td>1.0</td>\n",
       "      <td>0.0</td>\n",
       "      <td>0.0</td>\n",
       "    </tr>\n",
       "    <tr>\n",
       "      <th>311</th>\n",
       "      <td>28.12.2019</td>\n",
       "      <td>12</td>\n",
       "      <td>19</td>\n",
       "      <td>7</td>\n",
       "      <td>18</td>\n",
       "      <td>24</td>\n",
       "      <td>23</td>\n",
       "      <td>7.6</td>\n",
       "      <td>0.0</td>\n",
       "      <td>0.0</td>\n",
       "      <td>...</td>\n",
       "      <td>0.0</td>\n",
       "      <td>0.0</td>\n",
       "      <td>0.0</td>\n",
       "      <td>0.0</td>\n",
       "      <td>0.0</td>\n",
       "      <td>0.0</td>\n",
       "      <td>0.0</td>\n",
       "      <td>0.0</td>\n",
       "      <td>0.0</td>\n",
       "      <td>0.0</td>\n",
       "    </tr>\n",
       "  </tbody>\n",
       "</table>\n",
       "<p>312 rows × 57 columns</p>\n",
       "</div>"
      ],
      "text/plain": [
       "                   index  G1  G2  G3  G4  G5  G6  quota_EUR_8   N1   N2  ...  \\\n",
       "0    2017-01-04 00:00:00  48   5  39  37  21  13         11.3  0.0  0.0  ...   \n",
       "1    2017-01-07 00:00:00  22  12  14  45  17  46         12.9  0.0  0.0  ...   \n",
       "2    2017-01-11 00:00:00  29  32  27  38  34  20         11.7  0.0  0.0  ...   \n",
       "3    2017-01-14 00:00:00  23  37  27   4   3  28          9.8  0.0  0.0  ...   \n",
       "4    2017-01-18 00:00:00  39  40  10  28  11  13          9.9  0.0  0.0  ...   \n",
       "..                   ...  ..  ..  ..  ..  ..  ..          ...  ...  ...  ...   \n",
       "307           14.12.2019   4  20  31  16  38  34          9.9  0.0  0.0  ...   \n",
       "308           18.12.2019  25  42   6  48  20  19         10.9  0.0  0.0  ...   \n",
       "309           21.12.2019  27   4  13  14  35  20         12.6  0.0  0.0  ...   \n",
       "310           25.12.2019  47  41  33  36  22  17         10.5  0.0  0.0  ...   \n",
       "311           28.12.2019  12  19   7  18  24  23          7.6  0.0  0.0  ...   \n",
       "\n",
       "     N40  N41  N42  N43  N44  N45  N46  N47  N48  N49  \n",
       "0    0.0  0.0  0.0  0.0  0.0  0.0  0.0  0.0  1.0  0.0  \n",
       "1    0.0  0.0  0.0  0.0  0.0  1.0  1.0  0.0  0.0  0.0  \n",
       "2    0.0  0.0  0.0  0.0  0.0  0.0  0.0  0.0  0.0  0.0  \n",
       "3    0.0  0.0  0.0  0.0  0.0  0.0  0.0  0.0  0.0  0.0  \n",
       "4    1.0  0.0  0.0  0.0  0.0  0.0  0.0  0.0  0.0  0.0  \n",
       "..   ...  ...  ...  ...  ...  ...  ...  ...  ...  ...  \n",
       "307  0.0  0.0  0.0  0.0  0.0  0.0  0.0  0.0  0.0  0.0  \n",
       "308  0.0  0.0  1.0  0.0  0.0  0.0  0.0  0.0  1.0  0.0  \n",
       "309  0.0  0.0  0.0  0.0  0.0  0.0  0.0  0.0  0.0  0.0  \n",
       "310  0.0  1.0  0.0  0.0  0.0  0.0  0.0  1.0  0.0  0.0  \n",
       "311  0.0  0.0  0.0  0.0  0.0  0.0  0.0  0.0  0.0  0.0  \n",
       "\n",
       "[312 rows x 57 columns]"
      ]
     },
     "execution_count": 52,
     "metadata": {},
     "output_type": "execute_result"
    }
   ],
   "source": [
    "dfclass8.reset_index(inplace=True)\n",
    "dfclass8 = sparsedf(dfclass8)\n",
    "\n",
    "dfclass8"
   ]
  },
  {
   "cell_type": "code",
   "execution_count": 53,
   "metadata": {
    "scrolled": true
   },
   "outputs": [
    {
     "data": {
      "text/plain": [
       "N1     39.0\n",
       "N2     33.0\n",
       "N3     49.0\n",
       "N4     40.0\n",
       "N5     41.0\n",
       "N6     42.0\n",
       "N7     36.0\n",
       "N8     29.0\n",
       "N9     39.0\n",
       "N10    28.0\n",
       "N11    38.0\n",
       "N12    37.0\n",
       "N13    42.0\n",
       "N14    30.0\n",
       "N15    38.0\n",
       "N16    38.0\n",
       "N17    38.0\n",
       "N18    45.0\n",
       "N19    44.0\n",
       "N20    35.0\n",
       "N21    32.0\n",
       "N22    40.0\n",
       "N23    38.0\n",
       "N24    35.0\n",
       "N25    44.0\n",
       "N26    31.0\n",
       "N27    47.0\n",
       "N28    32.0\n",
       "N29    51.0\n",
       "N30    35.0\n",
       "N31    48.0\n",
       "N32    33.0\n",
       "N33    38.0\n",
       "N34    33.0\n",
       "N35    35.0\n",
       "N36    46.0\n",
       "N37    43.0\n",
       "N38    40.0\n",
       "N39    32.0\n",
       "N40    38.0\n",
       "N41    36.0\n",
       "N42    46.0\n",
       "N43    23.0\n",
       "N44    35.0\n",
       "N45    40.0\n",
       "N46    40.0\n",
       "N47    46.0\n",
       "N48    37.0\n",
       "N49    37.0\n",
       "dtype: float64"
      ]
     },
     "execution_count": 53,
     "metadata": {},
     "output_type": "execute_result"
    }
   ],
   "source": [
    "# expecting a uniform distribution of drawn numbers across population 1 -49\n",
    "dfclass8.sum()[7:58]"
   ]
  },
  {
   "cell_type": "code",
   "execution_count": 54,
   "metadata": {
    "scrolled": true
   },
   "outputs": [
    {
     "data": {
      "image/png": "[encoded data removed]",
      "text/plain": [
       "<Figure size 864x576 with 1 Axes>"
      ]
     },
     "metadata": {},
     "output_type": "display_data"
    },
    {
     "data": {
      "text/plain": [
       "<Figure size 960x480 with 0 Axes>"
      ]
     },
     "metadata": {},
     "output_type": "display_data"
    },
    {
     "name": "stdout",
     "output_type": "stream",
     "text": [
      "38.204081632653065\n"
     ]
    }
   ],
   "source": [
    "# plotting\n",
    "import numpy as np\n",
    "import pandas as pd\n",
    "from pandas import Series, DataFrame\n",
    "import matplotlib.pyplot as plt\n",
    "from matplotlib.pyplot import figure\n",
    "plt.rcParams['figure.figsize'] = [12, 8] # for square canvas\n",
    "plt.rcParams.update({'font.size': 16})\n",
    "\n",
    "data = [23, 45, 56, 78, 213]\n",
    "plt.bar(range(len(dfclass8.sum()[7:58])), dfclass8.sum()[7:58], color='blue')\n",
    "nn = np.linspace(1,50)\n",
    "plt.plot(range(len(dfclass8.sum()[7:58])),[37.8367 for w in dfclass8.sum()[7:58]],'r')\n",
    "plt.title('Frequency of each number drawn 2017-2019')\n",
    "figure(num=None, figsize=(12, 6), dpi=80, facecolor='w', edgecolor='k')\n",
    "plt.show()\n",
    "print(dfclass8.sum()[7:58].mean())"
   ]
  },
  {
   "cell_type": "markdown",
   "metadata": {},
   "source": [
    "### Assumption: frequency distribution of drawn lotto numbers is uniform"
   ]
  },
  {
   "cell_type": "markdown",
   "metadata": {},
   "source": [
    "This lotto game business is a multi-million EUR business and is certainly scrutizined all over sufficiently;\n",
    "nevertheless I will run a quick test to verify uniformity and reject any bias in each numbers defacto probability to be drawn."
   ]
  },
  {
   "cell_type": "code",
   "execution_count": 55,
   "metadata": {
    "scrolled": true
   },
   "outputs": [
    {
     "name": "stdout",
     "output_type": "stream",
     "text": [
      "Power_divergenceResult(statistic=42.417197452229296, pvalue=0.7001128685392815)\n",
      "0.7\n"
     ]
    }
   ],
   "source": [
    "# goodness of fit - test\n",
    "\n",
    "# frequency of numbers drawn\n",
    "number_draws_observed = dfclass8.sum()[7:58].to_numpy()\n",
    "\n",
    "# 1854 numbers drawn in 309 drawing sessions across the 49 number population, \n",
    "# with an expected mean of each number to show up of 37.83673469387755 times (see also appendix)\n",
    "# create a strictly uniform expected dist.\n",
    "number_draws_expected = [38.44897959183673 for w in dfclass8.sum()[7:58]]\n",
    "#print('number_draws_expected' ,number_draws_expected)\n",
    "#print('   ')\n",
    "\n",
    "# compare both distributions and compare\n",
    "from scipy.stats import chisquare, chi2_contingency\n",
    "test = chisquare(f_obs=number_draws_observed, f_exp=number_draws_expected)\n",
    "print(test)\n",
    "print(round(test[1],3))"
   ]
  },
  {
   "cell_type": "markdown",
   "metadata": {},
   "source": [
    "Conclusion:\n",
    "The p-value shows the confidence that the drawn frequency set originates more likely than not from a uniform distribution. That means that the number balls used in the drawings are indeed fair. Nothing else did we expect from the professional organizers of the national lottery in Germany.\n",
    "\n",
    "Our Null Hypothesis states that the number draw frequency distribution is uniform. This Null Hypothesis is not rejected due to the high p-value and quite comfortably confirmed."
   ]
  },
  {
   "cell_type": "markdown",
   "metadata": {},
   "source": [
    "### Modeling number popularity"
   ]
  },
  {
   "cell_type": "markdown",
   "metadata": {},
   "source": [
    "The problem is of linear nature with many linear equations that need to be solved. We want to find the best coefficients with a low error margin for all numbers involved given this dataset. This will allow us on the one hand to see the relative number pick frequencies and therefore popularities. One the other hand it will allow us to estimate and predict possible quotas for a winning tier. We are curious to which degree (margin of error) this will be possible, especially in the knowledge that there are overlaying complex factors (features) involved having potential large bias that we have to disregard at this point.\n",
    "\n",
    "As discussed by [Werner Brefeld](http://brefeld.homepage.t-online.de/lottoquoten.html), the problem of popular symmetric and or pattern picks is latent which assumes interdependant relations of picked numbers on one ticket which cannot be taken into account just now. Background: a few number drawings are on record where numbers being drawn constituted (symmetric) patterns on the ticket which warranted surprisingly many winners and thus low quotas and sub average profit shares."
   ]
  },
  {
   "cell_type": "markdown",
   "metadata": {},
   "source": [
    "#### Splitting data"
   ]
  },
  {
   "cell_type": "code",
   "execution_count": 56,
   "metadata": {
    "scrolled": true
   },
   "outputs": [
    {
     "name": "stdout",
     "output_type": "stream",
     "text": [
      "Train data shape 8 / 7: (277, 49) (265, 0)\n",
      "Test data shape 8 / 7:  (35, 49) (47, 0)\n"
     ]
    }
   ],
   "source": [
    "dfclass8_X = pd.DataFrame(dfclass8.iloc[:,8:58])\n",
    "dfclass8_y = dfclass8.iloc[:,7].to_numpy()\n",
    "\n",
    "dfclass7_X = pd.DataFrame(dfclass7.iloc[:,2:12])\n",
    "dfclass7_y = dfclass7.iloc[:,0].to_numpy()\n",
    "\n",
    "from sklearn.model_selection import train_test_split\n",
    "SEED = 1\n",
    "# As usually we split the data into a training and test data set (X_train, y_train, and X_test, y_test)\n",
    "# winning tier 8 ( three correct numbers )\n",
    "X_train, X_test, y_train, y_test = train_test_split(dfclass8_X, dfclass8_y, test_size=0.11, random_state=SEED)\n",
    "# winning tier 7 ( three correct numbers and correct Superzahl )\n",
    "X_train_7, X_test_7, y_train_7, y_test_7 = train_test_split(dfclass7_X, dfclass7_y, test_size=0.15, random_state=SEED)\n",
    "\n",
    "print('Train data shape 8 / 7:', X_train.shape, X_train_7.shape)\n",
    "print('Test data shape 8 / 7: ', X_test.shape, X_test_7.shape)"
   ]
  },
  {
   "cell_type": "code",
   "execution_count": 57,
   "metadata": {
    "scrolled": true
   },
   "outputs": [],
   "source": [
    "#imports\n",
    "from sklearn.ensemble import RandomForestRegressor\n",
    "from sklearn.model_selection import GridSearchCV\n",
    "from sklearn.svm import LinearSVR\n",
    "from sklearn.metrics import mean_absolute_error\n",
    "from sklearn.metrics import mean_squared_error\n",
    "from sklearn.ensemble import ExtraTreesRegressor\n",
    "from sklearn.ensemble import RandomForestRegressor\n",
    "from sklearn.linear_model import ElasticNet\n",
    "from sklearn.neighbors import KNeighborsRegressor\n",
    "from sklearn.tree import DecisionTreeRegressor\n",
    "from sklearn.svm import SVR\n",
    "from sklearn.ensemble import GradientBoostingRegressor\n",
    "from sklearn.linear_model import BayesianRidge\n",
    "from sklearn.ensemble import AdaBoostRegressor\n",
    "from sklearn.linear_model import OrthogonalMatchingPursuit\n",
    "from sklearn.linear_model import ARDRegression\n",
    "from sklearn.linear_model import SGDRegressor\n",
    "from sklearn.kernel_ridge import KernelRidge\n",
    "from sklearn.svm import SVR\n",
    "from sklearn.gaussian_process import GaussianProcessRegressor\n",
    "from sklearn.linear_model import LinearRegression\n",
    "from sklearn.linear_model import Ridge\n",
    "from sklearn.linear_model import Lasso\n",
    "from sklearn.kernel_ridge import KernelRidge\n",
    "\n",
    "def warn(*args, **kwargs):\n",
    "    pass\n",
    "import warnings\n",
    "warnings.warn = warn"
   ]
  },
  {
   "cell_type": "code",
   "execution_count": 58,
   "metadata": {
    "scrolled": true
   },
   "outputs": [],
   "source": [
    "#model definitions\n",
    "all_param = pd.Series()"
   ]
  },
  {
   "cell_type": "code",
   "execution_count": 59,
   "metadata": {
    "scrolled": true
   },
   "outputs": [],
   "source": [
    "queue = [\n",
    "       \n",
    "         ( \n",
    "            'linreg',\n",
    "            LinearRegression(copy_X=True),\n",
    "            {},\n",
    "            'coef_'\n",
    "         ),\n",
    "        (\n",
    "            'ridge',\n",
    "            Ridge(random_state=SEED,\n",
    "             copy_X=True\n",
    "            ),\n",
    "            {\n",
    "                'alpha': [1, 1.25, 1.5, 1.75,],\n",
    "                'max_iter': [ 200,300, 400, 500,600, 1000, 2000],\n",
    "                'solver': ['auto', 'svd', 'cholesky', 'lsqr', 'sparse_cg', 'sag', 'saga'],\n",
    "             },\n",
    "            'coef_'\n",
    "        ),\n",
    "    (\n",
    "            'lasso',\n",
    "            Lasso(random_state=SEED,\n",
    "             #copy_X=True\n",
    "            ),\n",
    "                {\n",
    "                'alpha': [0.001, 0.0015,0.002, 0.0025, 0.003, 0.004, 0.005, 0.0075,  ],\n",
    "                'max_iter': [  300, 400,500,700,900],\n",
    "             },\n",
    "            'coef_'\n",
    "    ),\n",
    "    (\n",
    "            'bayesridge',\n",
    "            BayesianRidge(\n",
    "                copy_X=True,\n",
    "                lambda_1=0.2,\n",
    "            ),\n",
    "\n",
    "                {\n",
    "                'alpha_1': [\n",
    "                                    0.001, 0.0015,0.002, 0.0025, 0.003, 0.0004, 0.0005, 0.000001, 0.0000001,\n",
    "                                    #0.25, 0.5, 0.75, 1, 1.5, 2, 3, 5,\n",
    "                                    #0.6\n",
    "                                ],\n",
    "                'lambda_1': [\n",
    "                                    0.001, 0.0015,0.002, 0.0025, 0.003, 0.0004, 0.0005, 0.000001,\n",
    "                                ],\n",
    "                'n_iter': [100,200,300,400,500,1000],\n",
    "             },\n",
    "            'coef_'\n",
    "    ),\n",
    "    (\n",
    "            'sgd',\n",
    "            SGDRegressor(\n",
    "                random_state=SEED\n",
    "            ),\n",
    "\n",
    "                {\n",
    "                'alpha': [\n",
    "                                    0.001, 0.0015,0.002, 0.0025, 0.003, 0.001, 0.0004, 0.0005, 0.000001,\n",
    "                                    #0.25, 0.5, 0.75, 1, 1.5, 2, 3, 5,\n",
    "                                    #0.6\n",
    "                                ],\n",
    "                'l1_ratio': [\n",
    "                                    0.005,0.05, 0.1, 0.15, 0.25, 0.5, 0.75, 1,\n",
    "                                ],\n",
    "                'max_iter': [300,400,500,1000, 2000],\n",
    "             },\n",
    "            'coef_'\n",
    "    ),\n",
    "    (\n",
    "            'linsvr',\n",
    "            LinearSVR(\n",
    "               \n",
    "            ),\n",
    "\n",
    "                {\n",
    "                 \n",
    "                'epsilon': [\n",
    "                                    0.1, 0.125, 0.15, 0.2, 0.3, 0.4, 0.5, 0.6,0.075,  0.05\n",
    "                                    #0.25, 0.5, 0.75, 1, 1.5, 2, 3, 5,\n",
    "                                    #0.6\n",
    "                                ],\n",
    "                'tol': [\n",
    "                                    0.025,0.04,0.05, 0.06,0.07,0.875, 0.1,0.15\n",
    "                                ],\n",
    "               \n",
    "                'C': [ 0.5, 0.7 , 0.9, 1,1.1,1.2,1.5, 2],\n",
    "                 'max_iter': [ 400,700,1000,1200,1500,2000,3000],    \n",
    "             },\n",
    "            'coef_'\n",
    "    )\n",
    "]\n",
    "\n"
   ]
  },
  {
   "cell_type": "markdown",
   "metadata": {},
   "source": [
    "#### Training the models with the designated Training Data"
   ]
  },
  {
   "cell_type": "code",
   "execution_count": 60,
   "metadata": {},
   "outputs": [
    {
     "name": "stdout",
     "output_type": "stream",
     "text": [
      "-0.5137008463541667 linreg {}\n",
      "-0.499170913350898 ridge {'alpha': 1, 'max_iter': 200, 'solver': 'lsqr'}\n",
      "-0.5045677907193077 lasso {'alpha': 0.001, 'max_iter': 300}\n",
      "-0.499807108597921 bayesridge {'alpha_1': 1e-07, 'lambda_1': 0.003, 'n_iter': 100}\n",
      "-0.5658040444210715 sgd {'alpha': 1e-06, 'l1_ratio': 0.005, 'max_iter': 300}\n",
      "-0.46751104893377554 linsvr {'C': 2, 'epsilon': 0.4, 'max_iter': 1000, 'tol': 0.07}\n",
      " \n",
      "linreg                                                       {}\n",
      "ridge           {'alpha': 1, 'max_iter': 200, 'solver': 'lsqr'}\n",
      "lasso                         {'alpha': 0.001, 'max_iter': 300}\n",
      "bayesridge    {'alpha_1': 1e-07, 'lambda_1': 0.003, 'n_iter'...\n",
      "sgd           {'alpha': 1e-06, 'l1_ratio': 0.005, 'max_iter'...\n",
      "linsvr        {'C': 2, 'epsilon': 0.4, 'max_iter': 1000, 'to...\n",
      "dtype: object\n",
      "Wall time: 44.4 s\n"
     ]
    }
   ],
   "source": [
    "%%time\n",
    "#gs\n",
    "from loky import get_reusable_executor\n",
    "get_reusable_executor(max_workers=4, timeout=500)\n",
    "                           \n",
    "for name, model, param, attribute in queue[0:6]:\n",
    "    \n",
    "    gs = GridSearchCV(model,param,cv=10,n_jobs=-1,scoring='neg_mean_squared_error' )\n",
    "    gs.fit(X_train, y_train)\n",
    "    all_param[name] = gs.best_params_\n",
    "    print(gs.best_score_, name, gs.best_params_)\n",
    "\n",
    "print(' ')\n",
    "print(all_param)"
   ]
  },
  {
   "cell_type": "code",
   "execution_count": 61,
   "metadata": {
    "scrolled": true
   },
   "outputs": [
    {
     "name": "stdout",
     "output_type": "stream",
     "text": [
      "6\n"
     ]
    }
   ],
   "source": [
    "print(len(queue))"
   ]
  },
  {
   "cell_type": "markdown",
   "metadata": {},
   "source": [
    "#### Model performances with the designated Test Data"
   ]
  },
  {
   "cell_type": "code",
   "execution_count": 62,
   "metadata": {
    "scrolled": false
   },
   "outputs": [
    {
     "name": "stdout",
     "output_type": "stream",
     "text": [
      "linreg  --------------\n",
      "Mean Squared Error: 0.3932198137555803\n",
      "Root Mean Squared Error: 0.6270724150810497\n",
      "ridge  --------------\n",
      "Mean Squared Error: 0.4175507363196435\n",
      "Root Mean Squared Error: 0.6461816589161623\n",
      "lasso  --------------\n",
      "Mean Squared Error: 0.40068699983278666\n",
      "Root Mean Squared Error: 0.6329984200871174\n",
      "bayesridge  --------------\n",
      "Mean Squared Error: 0.4190189105968596\n",
      "Root Mean Squared Error: 0.6473167003846414\n",
      "sgd  --------------\n",
      "Mean Squared Error: 0.6016390734541474\n",
      "Root Mean Squared Error: 0.7756539650218693\n",
      "linsvr  --------------\n",
      "Mean Squared Error: 0.44471191050978526\n",
      "Root Mean Squared Error: 0.6668672360446157\n"
     ]
    }
   ],
   "source": [
    "from sklearn import metrics\n",
    "\n",
    "model_weights = pd.DataFrame({'number': range(1,50)})\n",
    "\n",
    "for name, model, param, attribute in queue[0:6]:\n",
    "    \n",
    "    regr = model\n",
    "    regr.set_params(**all_param[name]) # fit best scoring grid searched model\n",
    "       \n",
    "    regr.fit(X_train, y_train)\n",
    "    \n",
    "    y_pred = regr.predict(X_test)\n",
    "    \n",
    "    print(name, ' --------------')\n",
    "\n",
    "    print('Mean Squared Error:', mean_squared_error(y_test, y_pred))  \n",
    "    print('Root Mean Squared Error:', np.sqrt(mean_squared_error(y_test, y_pred)))\n",
    "    \n",
    "    model_weights[name] = getattr(regr,attribute)\n",
    "\n",
    "model_weights =  model_weights.iloc[:,1:5]"
   ]
  },
  {
   "cell_type": "markdown",
   "metadata": {},
   "source": [
    "The linsvr model is not robust enough for the test data to confirm the cross validated performance. This model is certainly overfitted. We have to keep this is in mind when looking at the coefficents right next."
   ]
  },
  {
   "cell_type": "markdown",
   "metadata": {},
   "source": [
    "### Modeled Feature Coefficents/Importances (= number popularity)"
   ]
  },
  {
   "cell_type": "markdown",
   "metadata": {},
   "source": [
    "#### The Regular Six Numbers (One to 49)"
   ]
  },
  {
   "cell_type": "markdown",
   "metadata": {},
   "source": [
    "which features (=numbers) do correlate with a higher profit share (=less winners) and which do less?"
   ]
  },
  {
   "cell_type": "code",
   "execution_count": 63,
   "metadata": {
    "scrolled": true
   },
   "outputs": [],
   "source": [
    "# normalization\n",
    "from sklearn.preprocessing import StandardScaler\n",
    "from sklearn import preprocessing\n",
    "\n",
    "weights = model_weights.iloc[:,:].copy()\n",
    "scaler = StandardScaler()\n",
    "\n",
    "for n in weights.columns:\n",
    "    np_array = np.array(weights[n].values)\n",
    "    arr = scaler.fit_transform(np_array.reshape(-1, 1))\n",
    "    weights[n] = arr"
   ]
  },
  {
   "cell_type": "code",
   "execution_count": 64,
   "metadata": {
    "scrolled": false
   },
   "outputs": [
    {
     "name": "stdout",
     "output_type": "stream",
     "text": [
      "Having a peak into the data...\n",
      "  number    linreg     ridge     lasso  bayesridge\n",
      "1      1  0.425204  0.438354  0.435677    0.437859\n",
      "2      2 -0.143301 -0.073384 -0.055878   -0.074180\n",
      "3      3 -1.461983 -1.486128 -1.474541   -1.488115\n",
      "4      4 -0.563024 -0.616321 -0.591879   -0.615952\n",
      "5      5 -1.170683 -1.207236 -1.190398   -1.208406\n",
      "6      6 -1.134662 -1.119764 -1.121690   -1.121097\n",
      "7      7 -2.112710 -2.116024 -2.137002   -2.116752\n"
     ]
    },
    {
     "data": {
      "image/png": "[encoded data removed]",
      "text/plain": [
       "<Figure size 1224x648 with 1 Axes>"
      ]
     },
     "metadata": {},
     "output_type": "display_data"
    },
    {
     "data": {
      "image/png": "[encoded data removed]",
      "text/plain": [
       "<Figure size 1224x648 with 1 Axes>"
      ]
     },
     "metadata": {},
     "output_type": "display_data"
    }
   ],
   "source": [
    "# plotting popularity\n",
    "\n",
    "import pandas as pd\n",
    "\n",
    "model_weights = pd.DataFrame({'number': range(1,50)})\n",
    "model_weights['number'] = model_weights['number'].astype(str) #convert\n",
    "#model_weights.reindex([model_weights['number'])\n",
    "\n",
    "model_weights = pd.concat([model_weights, weights], axis=1)\n",
    "model_weights.set_index('number')\n",
    "model_weights.index += 1 \n",
    "print('Having a peak into the data...')\n",
    "print(model_weights.head(7))\n",
    "\n",
    "#prepare two df for df.plot   \n",
    "dfplot_mw1 = model_weights[0:25][['linreg','ridge','lasso', 'bayesridge']].copy()\n",
    "dfplot_mw2 = model_weights[25:50][['linreg','ridge','lasso', 'bayesridge']].copy()\n",
    "\n",
    "import matplotlib.pyplot as plt\n",
    "plt.rcParams.update({'font.size': 16})\n",
    "\n",
    "a = dfplot_mw1.plot(kind='bar', \n",
    "                    title =\"Modeled Number Feature Coefficents (positive = higher quota / negative = lower quota)\", figsize=(17, 9), legend=True, fontsize=14)\n",
    "plt.xticks(rotation=0)\n",
    "\n",
    "b = dfplot_mw2.plot(kind='bar', \n",
    "                    title =\"Modeled Number Feature Coefficents (positive = higher quota / negative = lower quota)\", figsize=(17, 9), legend=True, fontsize=14)\n",
    "ax = [a,b]\n",
    "\n",
    "for axis in ax: \n",
    "    axis.set_xlabel(\"number\", fontsize=14)\n",
    "    axis.set_ylabel(\"value\", fontsize=14)\n",
    "    \n",
    "    major_ticks = np.arange(0, 24, 10)\n",
    "    minor_ticks = np.arange(0, 24, 5)\n",
    "\n",
    "    axis.grid(which='major', color='#CCCCCC', linestyle='--')\n",
    "    axis.grid(which='minor', color='#CCCCCC', linestyle=':')\n",
    "\n",
    "    axis.grid(True)\n",
    "\n",
    "\n",
    "plt.xticks(rotation=0)\n",
    "plt.show()"
   ]
  },
  {
   "cell_type": "code",
   "execution_count": 65,
   "metadata": {
    "scrolled": false
   },
   "outputs": [
    {
     "data": {
      "image/png": "[encoded data removed]",
      "text/plain": [
       "<Figure size 1152x648 with 1 Axes>"
      ]
     },
     "metadata": {},
     "output_type": "display_data"
    },
    {
     "data": {
      "text/plain": [
       "number    1225.000000\n",
       "mean         0.006656\n",
       "dtype: float64"
      ]
     },
     "execution_count": 65,
     "metadata": {},
     "output_type": "execute_result"
    }
   ],
   "source": [
    "mean_weights = pd.DataFrame({'number': range(1,50)})\n",
    "mean_weights.index += 1 \n",
    "mean_weights['mean'] = model_weights.mean(axis=1)\n",
    "sorted_mean_weights = mean_weights.sort_values('mean')\n",
    "\n",
    "axx = sorted_mean_weights[0:50][['mean']].plot(kind='bar', title =\"Sorted Modeled Number Feature Coefficents (positive = higher quota / negative = lower quota)\", figsize=(16, 9), legend=True, fontsize=12)\n",
    "plt.xticks(rotation=0, fontsize=13)\n",
    "plt.xlabel(\"number\", fontsize=16)\n",
    "plt.ylabel(\"value\", fontsize=16)\n",
    "plt.show()\n",
    "\n",
    "mean_weights.sum()"
   ]
  },
  {
   "cell_type": "code",
   "execution_count": 66,
   "metadata": {
    "scrolled": true
   },
   "outputs": [],
   "source": [
    "mean_weights.drop(mean_weights.columns[[0]], axis=1,inplace=True)"
   ]
  },
  {
   "cell_type": "code",
   "execution_count": 67,
   "metadata": {
    "scrolled": false
   },
   "outputs": [
    {
     "data": {
      "image/png": "[encoded data removed]",
      "text/plain": [
       "<Figure size 936x648 with 2 Axes>"
      ]
     },
     "metadata": {},
     "output_type": "display_data"
    }
   ],
   "source": [
    "size = 7\n",
    "data = mean_weights.to_numpy().reshape((size, size))\n",
    "values = mean_weights.to_numpy().reshape((size, size))\n",
    "idx = mean_weights.index.to_numpy().reshape((size, size))\n",
    "\n",
    "# plot based on https://stackoverflow.com/a/45989759 Ramon Martinez\n",
    "font = {'family' : ['Tahoma', 'DejaVu Sans', 'Lucida Grande', 'Verdana'],\n",
    "        'weight' : 'normal',\n",
    "        'size'   : 13}\n",
    "\n",
    "plt.rc('font', **font)\n",
    "\n",
    "# Limits for the extent\n",
    "x_start = 1\n",
    "x_end = 8\n",
    "y_start = 8\n",
    "y_end = 1\n",
    "\n",
    "extent = [x_start, x_end, y_start, y_end]\n",
    "\n",
    "# The normal figure\n",
    "fig = plt.figure(figsize=(13, 9))\n",
    "ax = fig.add_subplot(111)\n",
    "\n",
    "im = ax.imshow(data, extent=extent, origin='upper', interpolation='None', cmap='hot')\n",
    "\n",
    "# Add the text\n",
    "jump_x = (x_end - x_start) / (2.0 * size)\n",
    "jump_y = (y_end - y_start) / (2.0 * size)\n",
    "x_positions = np.linspace(start=x_start, stop=x_end, num=size, endpoint=False)\n",
    "y_positions = np.linspace(start=y_end, stop=y_start, num=size, endpoint=False)\n",
    "\n",
    "for x_index, x in enumerate(x_positions):\n",
    "    for y_index, y in enumerate(y_positions):\n",
    "        label = np.round(values[y_index, x_index],2)\n",
    "        label2 = idx[y_index, x_index]\n",
    "        text_x = x + jump_x\n",
    "        text_x2 = x + jump_x\n",
    "        text_y = y - jump_y*1.35\n",
    "        text_y2 = y - jump_y*0.75\n",
    "        if label < 0:\n",
    "            txtcol = 'white'\n",
    "        else:\n",
    "            txtcol = 'black'\n",
    "        ax.text(text_x, text_y, label, color=txtcol, ha='center', va='center')\n",
    "        ax.text(text_x2, text_y2, label2, color=txtcol, ha='center', va='center').set_fontsize(18)\n",
    "\n",
    "# Labels for major ticks\n",
    "ax.set_xticklabels(np.arange(1, 8, 1));\n",
    "ax.set_yticklabels(np.arange(1, 8, 1));\n",
    "\n",
    "# Gridlines based on minor ticks\n",
    "gridcol= 'black'\n",
    "ax.grid(which='major', color=gridcol, linestyle='-', linewidth=2)\n",
    "ax.spines['bottom'].set_color(gridcol)\n",
    "ax.spines['top'].set_color(gridcol) \n",
    "ax.spines['right'].set_color(gridcol)\n",
    "ax.spines['left'].set_color(gridcol)\n",
    "ax.tick_params(axis='x', colors=gridcol)\n",
    "ax.tick_params(axis='y', colors=gridcol)\n",
    "ax.set_title('\\'Lotto 6 aus 49\\' - mean quota / number correlations in winning tier 8 across all models\\n')\n",
    "\n",
    "fig.colorbar(im)\n",
    "plt.setp(ax.get_xticklabels(), visible=False)\n",
    "plt.setp(ax.get_yticklabels(), visible=False)\n",
    "#plt.tight_layout(pad=0)\n",
    "plt.show()"
   ]
  },
  {
   "cell_type": "markdown",
   "metadata": {},
   "source": [
    "The heatmap shows the higher quotas with less often played numbers with its positive coefficents towards colour white.\n",
    "And quite the opposite with dark red towards black the extremly low expected quotas with the most popular numbers.\n",
    "\n",
    "The recommendation could be summarized as such: <b>\n",
    "1. Avoid the black holes at all cost, particularly 7, 9 and 17 and/or red in general.\n",
    "2. Play preferably white and (light) yellowish backgrounded (black font) numbers only.\n",
    "</b>"
   ]
  },
  {
   "cell_type": "markdown",
   "metadata": {},
   "source": [
    "#### The Superzahl (zero to nine)"
   ]
  },
  {
   "cell_type": "markdown",
   "metadata": {},
   "source": [
    "##### 1st Approach with Machine Learning"
   ]
  },
  {
   "cell_type": "code",
   "execution_count": 68,
   "metadata": {},
   "outputs": [
    {
     "data": {
      "image/png": "[encoded data removed]",
      "text/plain": [
       "<Figure size 1008x576 with 1 Axes>"
      ]
     },
     "metadata": {},
     "output_type": "display_data"
    },
    {
     "data": {
      "text/plain": [
       "quota_EUR_7    21.699755\n",
       "dtype: float64"
      ]
     },
     "execution_count": 68,
     "metadata": {},
     "output_type": "execute_result"
    }
   ],
   "source": [
    "dfcl7mean = dfclass7.groupby('Superzahl').mean()\n",
    "dfcl5mean = dfclass5.groupby('Superzahl').mean()\n",
    "import matplotlib.cm as cm\n",
    "\n",
    "ax = dfcl7mean[0:10].plot(kind='bar', title =\"Mean quotas winning tier 7\", figsize=(14, 8), \n",
    "                             legend=True, fontsize=12)\n",
    "\n",
    "for p in ax.patches: \n",
    "    ax.annotate(np.round(p.get_height(),decimals=2), (p.get_x()+p.get_width()/2., p.get_height()), \n",
    "                                 ha='center', va='center', color='w', xytext=(0, -15), textcoords='offset points')\n",
    "ax.legend([\"winning tier 7\"]);  \n",
    "plt.xticks(rotation=0)\n",
    "plt.show()\n",
    "dfcl7mean.mean()"
   ]
  },
  {
   "cell_type": "code",
   "execution_count": 69,
   "metadata": {},
   "outputs": [
    {
     "data": {
      "image/png": "[encoded data removed]",
      "text/plain": [
       "<Figure size 1008x576 with 1 Axes>"
      ]
     },
     "metadata": {},
     "output_type": "display_data"
    }
   ],
   "source": [
    "from sklearn.preprocessing import StandardScaler, RobustScaler, QuantileTransformer\n",
    "from sklearn import preprocessing\n",
    "from decimal import Decimal\n",
    "\n",
    "dfcl7mean['quota_EUR_5'] = dfcl5mean['quota_EUR_5']\n",
    "scaler = StandardScaler(with_std=True)\n",
    "scaler.fit(dfcl7mean)\n",
    "dfcl7mean_scaled = pd.DataFrame(scaler.transform(dfcl7mean), columns = dfcl7mean.columns)\n",
    "ax = dfcl7mean_scaled[0:10].plot(kind='bar', title =\"Studentized expected quotas for each Superzahl\", figsize=(14, 8), legend=True, fontsize=12)\n",
    "\n",
    "# from https://stackoverflow.com/a/48372659 thank you 'justfortherec'\n",
    "def add_value_labels(ax, spacing=5):\n",
    "    \"\"\"Add labels to the end of each bar in a bar chart.\n",
    "\n",
    "    Arguments:\n",
    "        ax (matplotlib.axes.Axes): The matplotlib object containing the axes\n",
    "            of the plot to annotate.\n",
    "        spacing (int): The distance between the labels and the bars.\n",
    "    \"\"\"\n",
    "\n",
    "    # For each bar: Place a label\n",
    "    for rect in ax.patches:\n",
    "        # Get X and Y placement of label from rect.\n",
    "        y_value = rect.get_height()\n",
    "        x_value = rect.get_x() + rect.get_width() / 2\n",
    "\n",
    "        # Number of points between bar and label. Change to your liking.\n",
    "        space = spacing\n",
    "        # Vertical alignment for positive values\n",
    "        va = 'bottom'\n",
    "\n",
    "        # If value of bar is negative: Place label below bar\n",
    "        if y_value < 0:\n",
    "            # Invert space to place label below\n",
    "            space *= -1\n",
    "            # Vertically align label at top\n",
    "            va = 'top'\n",
    "\n",
    "        # Use Y value as label and format number with one decimal place\n",
    "        label = \"{:.1f}\".format(y_value)\n",
    "\n",
    "        # Create annotation\n",
    "        ax.annotate(\n",
    "            label,                      # Use `label` as label\n",
    "            (x_value, y_value),         # Place label at end of the bar\n",
    "            xytext=(0, space),          # Vertically shift label by `space`\n",
    "            textcoords=\"offset points\", # Interpret `xytext` as offset in points\n",
    "            ha='center',                # Horizontally center label\n",
    "            va=va)                      # Vertically align label differently for\n",
    "                                        # positive and negative values.\n",
    "\n",
    "\n",
    "# Call the function above. All the magic happens there.\n",
    "add_value_labels(ax)\n",
    "ax.legend([\"winning tier 7\", \"winning tier 5\"]);\n",
    "plt.xticks(rotation=0)\n",
    "plt.show()\n"
   ]
  },
  {
   "cell_type": "markdown",
   "metadata": {},
   "source": [
    "##### 2nd Approach with Comparing adjacent winning tiers with and without Superzahl"
   ]
  },
  {
   "cell_type": "markdown",
   "metadata": {},
   "source": [
    "This approach is certainly preferred as the influence of the Superzahl and its popularity can be fully isolated due to the structuring of the winning tiers."
   ]
  },
  {
   "cell_type": "code",
   "execution_count": 70,
   "metadata": {},
   "outputs": [
    {
     "name": "stdout",
     "output_type": "stream",
     "text": [
      "Wall time: 21.5 ms\n"
     ]
    },
    {
     "data": {
      "text/html": [
       "<div>\n",
       "<style scoped>\n",
       "    .dataframe tbody tr th:only-of-type {\n",
       "        vertical-align: middle;\n",
       "    }\n",
       "\n",
       "    .dataframe tbody tr th {\n",
       "        vertical-align: top;\n",
       "    }\n",
       "\n",
       "    .dataframe thead th {\n",
       "        text-align: right;\n",
       "    }\n",
       "</style>\n",
       "<table border=\"1\" class=\"dataframe\">\n",
       "  <thead>\n",
       "    <tr style=\"text-align: right;\">\n",
       "      <th></th>\n",
       "      <th>quotient_threeright</th>\n",
       "      <th>quotient_fourright</th>\n",
       "      <th>quotient_fiveright</th>\n",
       "    </tr>\n",
       "    <tr>\n",
       "      <th>S</th>\n",
       "      <th></th>\n",
       "      <th></th>\n",
       "      <th></th>\n",
       "    </tr>\n",
       "  </thead>\n",
       "  <tbody>\n",
       "    <tr>\n",
       "      <th>0</th>\n",
       "      <td>0.845779</td>\n",
       "      <td>0.854405</td>\n",
       "      <td>0.875328</td>\n",
       "    </tr>\n",
       "    <tr>\n",
       "      <th>1</th>\n",
       "      <td>0.948027</td>\n",
       "      <td>0.951227</td>\n",
       "      <td>0.955890</td>\n",
       "    </tr>\n",
       "    <tr>\n",
       "      <th>2</th>\n",
       "      <td>1.004822</td>\n",
       "      <td>1.004100</td>\n",
       "      <td>0.961467</td>\n",
       "    </tr>\n",
       "    <tr>\n",
       "      <th>3</th>\n",
       "      <td>1.180298</td>\n",
       "      <td>1.178607</td>\n",
       "      <td>1.156610</td>\n",
       "    </tr>\n",
       "    <tr>\n",
       "      <th>4</th>\n",
       "      <td>1.064976</td>\n",
       "      <td>1.062544</td>\n",
       "      <td>1.042043</td>\n",
       "    </tr>\n",
       "    <tr>\n",
       "      <th>5</th>\n",
       "      <td>1.269253</td>\n",
       "      <td>1.276096</td>\n",
       "      <td>1.214365</td>\n",
       "    </tr>\n",
       "    <tr>\n",
       "      <th>6</th>\n",
       "      <td>1.205013</td>\n",
       "      <td>1.206128</td>\n",
       "      <td>1.172710</td>\n",
       "    </tr>\n",
       "    <tr>\n",
       "      <th>7</th>\n",
       "      <td>1.350242</td>\n",
       "      <td>1.354437</td>\n",
       "      <td>1.283479</td>\n",
       "    </tr>\n",
       "    <tr>\n",
       "      <th>8</th>\n",
       "      <td>1.171411</td>\n",
       "      <td>1.175044</td>\n",
       "      <td>1.252231</td>\n",
       "    </tr>\n",
       "    <tr>\n",
       "      <th>9</th>\n",
       "      <td>1.074196</td>\n",
       "      <td>1.080342</td>\n",
       "      <td>1.088929</td>\n",
       "    </tr>\n",
       "  </tbody>\n",
       "</table>\n",
       "</div>"
      ],
      "text/plain": [
       "   quotient_threeright  quotient_fourright  quotient_fiveright\n",
       "S                                                             \n",
       "0             0.845779            0.854405            0.875328\n",
       "1             0.948027            0.951227            0.955890\n",
       "2             1.004822            1.004100            0.961467\n",
       "3             1.180298            1.178607            1.156610\n",
       "4             1.064976            1.062544            1.042043\n",
       "5             1.269253            1.276096            1.214365\n",
       "6             1.205013            1.206128            1.172710\n",
       "7             1.350242            1.354437            1.283479\n",
       "8             1.171411            1.175044            1.252231\n",
       "9             1.074196            1.080342            1.088929"
      ]
     },
     "execution_count": 70,
     "metadata": {},
     "output_type": "execute_result"
    }
   ],
   "source": [
    "%%time\n",
    "dfsuperzahl = pd.DataFrame(df[['S','Anz. Kl. 7', 'Anz. Kl. 8','Anz. Kl. 5', 'Anz. Kl. 6','Anz. Kl. 3', 'Anz. Kl. 4']])\n",
    "#print(dfsuperzahl['Anz. Kl. 7'])\n",
    "\n",
    "def threeright(row):\n",
    "    return row['Anz. Kl. 7'] / row['Anz. Kl. 8'] * 10\n",
    "\n",
    "def fourright(row):\n",
    "    return row['Anz. Kl. 5'] / row['Anz. Kl. 6'] * 10\n",
    "\n",
    "def fiveright(row):\n",
    "    return row['Anz. Kl. 3'] / row['Anz. Kl. 4'] * 10\n",
    "\n",
    "dfsuperzahl['quotient_threeright'] = df.apply(threeright, axis=1)\n",
    "dfsuperzahl['quotient_fourright'] = df.apply(fourright, axis=1)\n",
    "dfsuperzahl['quotient_fiveright'] = df.apply(fiveright, axis=1)\n",
    "dfsuperzahl.drop(dfsuperzahl.columns[[1,2,3,4,5,6]], axis=1,inplace=True)\n",
    "#print(dfsuperzahl)\n",
    "dfsz = pd.DataFrame()\n",
    "dfsz = dfsuperzahl.groupby('S').mean()\n",
    "dfsz"
   ]
  },
  {
   "cell_type": "code",
   "execution_count": 71,
   "metadata": {},
   "outputs": [
    {
     "data": {
      "image/png": "[encoded data removed]",
      "text/plain": [
       "<Figure size 1152x576 with 1 Axes>"
      ]
     },
     "metadata": {},
     "output_type": "display_data"
    }
   ],
   "source": [
    "# standarize values with a mean of 0\n",
    "\n",
    "from sklearn.preprocessing import StandardScaler, RobustScaler, QuantileTransformer\n",
    "scaler = StandardScaler(with_std=True)\n",
    "scaler.fit(dfsz)\n",
    "dfsz_scaled = pd.DataFrame(scaler.transform(dfsz), columns = dfsz.columns)\n",
    "\n",
    "ax = dfsz_scaled.plot(kind='bar', title =\"Superzahl popularities\", figsize=(16, 8), legend=True, fontsize=12)\n",
    "\n",
    "# from https://stackoverflow.com/a/48372659 thank you 'justfortherec'\n",
    "def add_value_labels(ax, spacing=5):\n",
    "    \"\"\"Add labels to the end of each bar in a bar chart.\n",
    "\n",
    "    Arguments:\n",
    "        ax (matplotlib.axes.Axes): The matplotlib object containing the axes\n",
    "            of the plot to annotate.\n",
    "        spacing (int): The distance between the labels and the bars.\n",
    "    \"\"\"\n",
    "\n",
    "    # For each bar: Place a label\n",
    "    for rect in ax.patches:\n",
    "        # Get X and Y placement of label from rect.\n",
    "        y_value = rect.get_height()\n",
    "        x_value = rect.get_x() + rect.get_width() / 2\n",
    "\n",
    "        # Number of points between bar and label. Change to your liking.\n",
    "        if (x_value % 1) == 0.0:\n",
    "            space = spacing * 5\n",
    "        else:\n",
    "            space = spacing\n",
    "        # Vertical alignment for positive values\n",
    "        va = 'bottom'\n",
    "\n",
    "        # If value of bar is negative: Place label below bar\n",
    "        if y_value < 0:\n",
    "            # Invert space to place label below\n",
    "            space *= -1\n",
    "            # Vertically align label at top\n",
    "            va = 'top'\n",
    "\n",
    "        # Use Y value as label and format number with one decimal place\n",
    "        label = \"{:.2f}\".format(y_value)\n",
    "\n",
    "        # Create annotation\n",
    "        ax.annotate(\n",
    "            label,                      # Use `label` as label\n",
    "            (x_value, y_value),         # Place label at end of the bar\n",
    "            xytext=(0, space),          # Vertically shift label by `space`\n",
    "            textcoords=\"offset points\", # Interpret `xytext` as offset in points\n",
    "            ha='center',                # Horizontally center label\n",
    "            va=va)                      # Vertically align label differently for\n",
    "                                        # positive and negative values.\n",
    "\n",
    "\n",
    "# Call the function above. All the magic happens there.\n",
    "add_value_labels(ax)\n",
    "plt.xticks(rotation=0)\n",
    "#plt.legend(loc=4)\n",
    "plt.show()\n"
   ]
  },
  {
   "cell_type": "markdown",
   "metadata": {},
   "source": [
    "Pretty clear preferences also with the super numbers (Superzahl). Very popular is again number 7 and also number 5.\n",
    "Least played numbers are number 0 and number 1 for which one can expect on average a lot higher payout quotas in case that \n",
    "your ticket wins. And the best thing is again that you can determine this factor all by yourself on your ticket.\n",
    "\n",
    "The problem with winning tiers three and four with five correct numbers on the ticket is that is has considerably less winners and lower numbers in total. All in all the green values hardly deviate that much, except for instance Superzahl 8."
   ]
  },
  {
   "cell_type": "markdown",
   "metadata": {},
   "source": [
    "Only minor differences can be seen when comparing both approaches number 1 and number 2."
   ]
  },
  {
   "cell_type": "markdown",
   "metadata": {},
   "source": [
    "## Question 2: Winning Tier Quota Prediction"
   ]
  },
  {
   "cell_type": "code",
   "execution_count": 72,
   "metadata": {},
   "outputs": [],
   "source": [
    "# Split Data with numbers and superzahl combined into Train and Test Data\n",
    "dfclass8sz = pd.DataFrame()\n",
    "dfclass8sz = df.iloc[:,np.r_[0:7,23:24]].copy()\n",
    "dfclass8sz.reset_index(inplace=True)\n",
    "dfclass8sz.rename(columns = {'Quote Kl. 8':'quota_EUR_8'}, inplace=True)\n",
    "dfclass8sz = sparsedf(dfclass8sz)\n",
    "del dfclass8sz['index']\n",
    "dfclass8sz['S'] = pd.Categorical(dfclass8sz.S)\n",
    "dfclass8sz = pd.get_dummies(dfclass8sz, prefix_sep='')\n",
    "dfclass8sz_X = pd.DataFrame(dfclass8sz.iloc[:,7:67]).copy()\n",
    "dfclass8sz_y = dfclass8sz.iloc[:,6].to_numpy()\n",
    "X_train, X_test, y_train, y_test = train_test_split(dfclass8sz_X, dfclass8sz_y, test_size=0.15, random_state=SEED)"
   ]
  },
  {
   "cell_type": "markdown",
   "metadata": {},
   "source": [
    "we could use plain vanilla linear regression as in Q1 however I want to see what is possible and we try to boost ourt predictions. In order to achieve better predictions and lower prediction errors we use <b>Stacking Generalization </b> to improve the model(s)."
   ]
  },
  {
   "cell_type": "code",
   "execution_count": 73,
   "metadata": {},
   "outputs": [
    {
     "name": "stdout",
     "output_type": "stream",
     "text": [
      "-0.6354882835532135 linreg {}\n",
      "-0.4981811378793223 ridge {'alpha': 1.25, 'max_iter': 200, 'solver': 'saga'}\n",
      "-0.49952464129780694 lasso {'alpha': 0.003, 'max_iter': 300}\n",
      "-0.5012261021549107 bayesridge {'alpha_1': 1e-07, 'lambda_1': 1e-06, 'n_iter': 100}\n",
      "-0.5877365551338707 sgd {'alpha': 1e-06, 'l1_ratio': 0.005, 'max_iter': 300}\n",
      "-0.48804123430515334 linsvr {'C': 1.5, 'epsilon': 0.1, 'max_iter': 700, 'tol': 0.025}\n",
      " \n",
      "linreg                                                       {}\n",
      "ridge         {'alpha': 1.25, 'max_iter': 200, 'solver': 'sa...\n",
      "lasso                         {'alpha': 0.003, 'max_iter': 300}\n",
      "bayesridge    {'alpha_1': 1e-07, 'lambda_1': 1e-06, 'n_iter'...\n",
      "sgd           {'alpha': 1e-06, 'l1_ratio': 0.005, 'max_iter'...\n",
      "linsvr        {'C': 1.5, 'epsilon': 0.1, 'max_iter': 700, 't...\n",
      "dtype: object\n",
      "Wall time: 2min 8s\n"
     ]
    }
   ],
   "source": [
    "%%time\n",
    "all_param_sz = pd.Series()\n",
    "\n",
    "#gs\n",
    "from loky import get_reusable_executor\n",
    "get_reusable_executor(max_workers=4, timeout=500)\n",
    "                           \n",
    "for name, model, param, attribute in queue[0:6]:\n",
    "    \n",
    "    gs = GridSearchCV(model,param,cv=5,n_jobs=1,scoring='neg_mean_squared_error' )\n",
    "    gs.fit(X_train, y_train)\n",
    "    all_param_sz[name] = gs.best_params_\n",
    "    print(gs.best_score_, name, gs.best_params_)\n",
    "\n",
    "print(' ')\n",
    "print(all_param_sz)\n"
   ]
  },
  {
   "cell_type": "markdown",
   "metadata": {},
   "source": [
    "### Stacking Generalization with py package vecstack"
   ]
  },
  {
   "cell_type": "markdown",
   "metadata": {},
   "source": [
    "[Vecstack](https://github.com/vecxoz/vecstack)"
   ]
  },
  {
   "cell_type": "markdown",
   "metadata": {},
   "source": [
    "#### Set of 1st level models"
   ]
  },
  {
   "cell_type": "code",
   "execution_count": 74,
   "metadata": {
    "scrolled": true
   },
   "outputs": [],
   "source": [
    "# add non-linear high performing algos\n",
    "svr_param = {'C': 0.075, 'coef0': 5, 'degree': 3, 'epsilon': 0.075, 'kernel': 'poly'}\n",
    "kr_param = {'alpha': 0.6, 'coef0': 2, 'degree': 7, 'kernel': 'polynomial'}\n",
    "\n",
    "models = [\n",
    "\n",
    "    ('linreg', LinearRegression(**all_param_sz['linreg'])),\n",
    "    \n",
    "    ('lasso', Lasso(random_state=SEED,\n",
    "          **all_param_sz['lasso']\n",
    "            )),\n",
    "    \n",
    "    ('ridge', Ridge(random_state=SEED,\n",
    "             copy_X=True,\n",
    "            **all_param_sz['ridge'])),\n",
    "   \n",
    "    ('bridge', BayesianRidge(**all_param_sz['bayesridge'])),\n",
    "    \n",
    "    # add non-linear high performing algos\n",
    "    ('svr', SVR(**svr_param)),\n",
    "    \n",
    "    ('kridge',KernelRidge(**kr_param))\n",
    "\n",
    "]"
   ]
  },
  {
   "cell_type": "code",
   "execution_count": 75,
   "metadata": {},
   "outputs": [
    {
     "name": "stdout",
     "output_type": "stream",
     "text": [
      "linreg -------\n",
      "Mean Squared Error: 0.41098528922872346\n",
      "Root Mean Squared Error: 0.641081343691051\n",
      "--------------\n",
      "lasso -------\n",
      "Mean Squared Error: 0.44133064257525806\n",
      "Root Mean Squared Error: 0.6643272104733164\n",
      "--------------\n",
      "ridge -------\n",
      "Mean Squared Error: 0.4447408014315975\n",
      "Root Mean Squared Error: 0.6668888973671683\n",
      "--------------\n",
      "bridge -------\n",
      "Mean Squared Error: 0.44181092324089255\n",
      "Root Mean Squared Error: 0.6646885911770207\n",
      "--------------\n",
      "svr -------\n",
      "Mean Squared Error: 0.4226369966884471\n",
      "Root Mean Squared Error: 0.6501053735268207\n",
      "--------------\n",
      "kridge -------\n",
      "Mean Squared Error: 0.42606981000641186\n",
      "Root Mean Squared Error: 0.6527402316438078\n",
      "--------------\n"
     ]
    }
   ],
   "source": [
    "from sklearn import metrics\n",
    "\n",
    "for name, model in models:\n",
    "    \n",
    "    regr = model\n",
    "    regr.fit(X_train, y_train)\n",
    "    \n",
    "    y_pred = regr.predict(X_test)\n",
    "    \n",
    "    print(name, '-------')\n",
    "    print('Mean Squared Error:', mean_squared_error(y_test, y_pred))  \n",
    "    print('Root Mean Squared Error:', np.sqrt(mean_squared_error(y_test, y_pred)))\n",
    "    print('--------------')"
   ]
  },
  {
   "cell_type": "markdown",
   "metadata": {},
   "source": [
    "#### Perform stacking"
   ]
  },
  {
   "cell_type": "code",
   "execution_count": 76,
   "metadata": {
    "scrolled": false
   },
   "outputs": [
    {
     "name": "stdout",
     "output_type": "stream",
     "text": [
      "Wall time: 271 ms\n"
     ]
    }
   ],
   "source": [
    "%%time\n",
    "from vecstack import StackingTransformer\n",
    "stack = StackingTransformer(models,                     # list of models\n",
    "                           regression=True,            # regression task (if you need \n",
    "                                                       #     classification - set to False)\n",
    "                           metric=mean_squared_error, # metric: callable\n",
    "                           n_folds=10,                  # number of folds\n",
    "                           shuffle=True,               # shuffle the data\n",
    "                           random_state=SEED,             # ensure reproducibility\n",
    "                           verbose=0)                  # print all info\n",
    "\n",
    "# Fit\n",
    "stack = stack.fit(X_train, y_train)\n",
    "\n",
    "# Get your stacked features\n",
    "S_train = stack.transform(X_train)\n",
    "S_test = stack.transform(X_test)"
   ]
  },
  {
   "cell_type": "markdown",
   "metadata": {},
   "source": [
    "#### Results of 1st level model predictions\n",
    "\n",
    "The 1st level models produced out-of-fold predictions on the training data. On that basis we build the 2nd level model.  \n",
    "Here are the 1st level predictions:"
   ]
  },
  {
   "cell_type": "code",
   "execution_count": 77,
   "metadata": {
    "scrolled": true
   },
   "outputs": [
    {
     "data": {
      "text/plain": [
       "array([[ 8.09375   ,  8.16879167,  8.2263294 ,  8.22884881,  7.91368341,\n",
       "         7.84332353],\n",
       "       [ 9.8125    ,  9.61667201,  9.68776184,  9.68513271,  9.731715  ,\n",
       "         9.66171258],\n",
       "       [12.125     , 12.06989286, 12.08432916, 12.08528559, 12.13031442,\n",
       "        12.13736041]])"
      ]
     },
     "execution_count": 77,
     "metadata": {},
     "output_type": "execute_result"
    }
   ],
   "source": [
    "S_train[0:3]"
   ]
  },
  {
   "cell_type": "code",
   "execution_count": 78,
   "metadata": {
    "scrolled": true
   },
   "outputs": [
    {
     "data": {
      "text/plain": [
       "array([[ 9.596875  ,  9.60070983,  9.64834796,  9.64753235,  9.7239008 ,\n",
       "         9.66179734],\n",
       "       [10.57773438, 10.52710068, 10.52506139, 10.52805472, 10.42634125,\n",
       "        10.42499039],\n",
       "       [12.1296875 , 12.07708354, 11.97752263, 11.98788878, 11.91610162,\n",
       "        11.92531494]])"
      ]
     },
     "execution_count": 78,
     "metadata": {},
     "output_type": "execute_result"
    }
   ],
   "source": [
    "S_test[0:3]"
   ]
  },
  {
   "cell_type": "code",
   "execution_count": 79,
   "metadata": {},
   "outputs": [],
   "source": [
    "def rmspe(y_true, y_pred):\n",
    "    '''\n",
    "    Compute Root Mean Square Percentage Error between two arrays.\n",
    "    '''\n",
    "    return np.sqrt(np.mean(np.square(((y_true - y_pred) / y_true)), axis=0))*100"
   ]
  },
  {
   "cell_type": "markdown",
   "metadata": {},
   "source": [
    "#### Apply stacking generalization - 2nd level model"
   ]
  },
  {
   "cell_type": "code",
   "execution_count": 80,
   "metadata": {
    "scrolled": true
   },
   "outputs": [
    {
     "name": "stdout",
     "output_type": "stream",
     "text": [
      "Mean Squared Error: [0.42439094]\n",
      "Root Mean Squared Error: [0.65145294]\n",
      "Root Mean Squared Percentage Error:  5.95 %\n",
      "R2 score: [0.87712180]\n"
     ]
    }
   ],
   "source": [
    "# Initialize 2nd level model\n",
    "model_l2 = LinearRegression()\n",
    "    \n",
    "# Fit 2nd level model\n",
    "model_l2 = model_l2.fit(S_train, y_train)\n",
    "\n",
    "# Predict\n",
    "y_pred = model_l2.predict(S_test)\n",
    "\n",
    "# Final prediction score\n",
    "print('Mean Squared Error: [%.8f]' % mean_squared_error(y_test, y_pred))\n",
    "print('Root Mean Squared Error: [%.8f]' % np.sqrt(mean_squared_error(y_test, y_pred)))\n",
    "print('Root Mean Squared Percentage Error: ', round(rmspe(y_test, y_pred),2), '%')\n",
    "print('R2 score: [%.8f]' % metrics.r2_score(y_test, y_pred))\n",
    "\n",
    "rmspe_var = round(rmspe(y_test, y_pred),2)\n",
    "rmse_var = round(np.sqrt(mean_squared_error(y_test, y_pred)),2)"
   ]
  },
  {
   "cell_type": "markdown",
   "metadata": {},
   "source": [
    "This stacked model produced clearly better results than for instance the Linear Regression alone with 0.445 MSE."
   ]
  },
  {
   "cell_type": "code",
   "execution_count": 81,
   "metadata": {
    "scrolled": true
   },
   "outputs": [
    {
     "data": {
      "text/html": [
       "<div>\n",
       "<style scoped>\n",
       "    .dataframe tbody tr th:only-of-type {\n",
       "        vertical-align: middle;\n",
       "    }\n",
       "\n",
       "    .dataframe tbody tr th {\n",
       "        vertical-align: top;\n",
       "    }\n",
       "\n",
       "    .dataframe thead th {\n",
       "        text-align: right;\n",
       "    }\n",
       "</style>\n",
       "<table border=\"1\" class=\"dataframe\">\n",
       "  <thead>\n",
       "    <tr style=\"text-align: right;\">\n",
       "      <th></th>\n",
       "      <th>Actual Testdata Quota</th>\n",
       "      <th>Predicted Quota</th>\n",
       "    </tr>\n",
       "  </thead>\n",
       "  <tbody>\n",
       "    <tr>\n",
       "      <th>0</th>\n",
       "      <td>9.8</td>\n",
       "      <td>9.69</td>\n",
       "    </tr>\n",
       "    <tr>\n",
       "      <th>1</th>\n",
       "      <td>10.8</td>\n",
       "      <td>10.40</td>\n",
       "    </tr>\n",
       "    <tr>\n",
       "      <th>2</th>\n",
       "      <td>12.6</td>\n",
       "      <td>11.90</td>\n",
       "    </tr>\n",
       "    <tr>\n",
       "      <th>3</th>\n",
       "      <td>10.9</td>\n",
       "      <td>11.03</td>\n",
       "    </tr>\n",
       "    <tr>\n",
       "      <th>4</th>\n",
       "      <td>11.8</td>\n",
       "      <td>11.22</td>\n",
       "    </tr>\n",
       "    <tr>\n",
       "      <th>5</th>\n",
       "      <td>7.4</td>\n",
       "      <td>8.33</td>\n",
       "    </tr>\n",
       "    <tr>\n",
       "      <th>6</th>\n",
       "      <td>7.6</td>\n",
       "      <td>7.31</td>\n",
       "    </tr>\n",
       "    <tr>\n",
       "      <th>7</th>\n",
       "      <td>12.0</td>\n",
       "      <td>11.84</td>\n",
       "    </tr>\n",
       "    <tr>\n",
       "      <th>8</th>\n",
       "      <td>9.5</td>\n",
       "      <td>9.09</td>\n",
       "    </tr>\n",
       "    <tr>\n",
       "      <th>9</th>\n",
       "      <td>11.7</td>\n",
       "      <td>11.58</td>\n",
       "    </tr>\n",
       "    <tr>\n",
       "      <th>10</th>\n",
       "      <td>7.4</td>\n",
       "      <td>7.41</td>\n",
       "    </tr>\n",
       "    <tr>\n",
       "      <th>11</th>\n",
       "      <td>11.4</td>\n",
       "      <td>10.24</td>\n",
       "    </tr>\n",
       "    <tr>\n",
       "      <th>12</th>\n",
       "      <td>10.2</td>\n",
       "      <td>9.50</td>\n",
       "    </tr>\n",
       "    <tr>\n",
       "      <th>13</th>\n",
       "      <td>15.0</td>\n",
       "      <td>14.03</td>\n",
       "    </tr>\n",
       "    <tr>\n",
       "      <th>14</th>\n",
       "      <td>9.7</td>\n",
       "      <td>10.50</td>\n",
       "    </tr>\n",
       "    <tr>\n",
       "      <th>15</th>\n",
       "      <td>9.6</td>\n",
       "      <td>10.34</td>\n",
       "    </tr>\n",
       "    <tr>\n",
       "      <th>16</th>\n",
       "      <td>10.9</td>\n",
       "      <td>10.51</td>\n",
       "    </tr>\n",
       "    <tr>\n",
       "      <th>17</th>\n",
       "      <td>10.5</td>\n",
       "      <td>10.57</td>\n",
       "    </tr>\n",
       "    <tr>\n",
       "      <th>18</th>\n",
       "      <td>7.1</td>\n",
       "      <td>7.51</td>\n",
       "    </tr>\n",
       "    <tr>\n",
       "      <th>19</th>\n",
       "      <td>12.7</td>\n",
       "      <td>10.95</td>\n",
       "    </tr>\n",
       "    <tr>\n",
       "      <th>20</th>\n",
       "      <td>13.0</td>\n",
       "      <td>13.53</td>\n",
       "    </tr>\n",
       "    <tr>\n",
       "      <th>21</th>\n",
       "      <td>9.8</td>\n",
       "      <td>10.25</td>\n",
       "    </tr>\n",
       "    <tr>\n",
       "      <th>22</th>\n",
       "      <td>9.0</td>\n",
       "      <td>9.56</td>\n",
       "    </tr>\n",
       "    <tr>\n",
       "      <th>23</th>\n",
       "      <td>13.5</td>\n",
       "      <td>12.64</td>\n",
       "    </tr>\n",
       "    <tr>\n",
       "      <th>24</th>\n",
       "      <td>10.5</td>\n",
       "      <td>11.01</td>\n",
       "    </tr>\n",
       "    <tr>\n",
       "      <th>25</th>\n",
       "      <td>10.5</td>\n",
       "      <td>10.81</td>\n",
       "    </tr>\n",
       "    <tr>\n",
       "      <th>26</th>\n",
       "      <td>7.8</td>\n",
       "      <td>7.99</td>\n",
       "    </tr>\n",
       "    <tr>\n",
       "      <th>27</th>\n",
       "      <td>11.8</td>\n",
       "      <td>11.00</td>\n",
       "    </tr>\n",
       "    <tr>\n",
       "      <th>28</th>\n",
       "      <td>11.0</td>\n",
       "      <td>10.72</td>\n",
       "    </tr>\n",
       "    <tr>\n",
       "      <th>29</th>\n",
       "      <td>11.3</td>\n",
       "      <td>11.91</td>\n",
       "    </tr>\n",
       "    <tr>\n",
       "      <th>30</th>\n",
       "      <td>9.7</td>\n",
       "      <td>9.85</td>\n",
       "    </tr>\n",
       "    <tr>\n",
       "      <th>31</th>\n",
       "      <td>9.6</td>\n",
       "      <td>10.49</td>\n",
       "    </tr>\n",
       "    <tr>\n",
       "      <th>32</th>\n",
       "      <td>8.5</td>\n",
       "      <td>8.93</td>\n",
       "    </tr>\n",
       "    <tr>\n",
       "      <th>33</th>\n",
       "      <td>8.9</td>\n",
       "      <td>9.81</td>\n",
       "    </tr>\n",
       "    <tr>\n",
       "      <th>34</th>\n",
       "      <td>11.2</td>\n",
       "      <td>11.01</td>\n",
       "    </tr>\n",
       "    <tr>\n",
       "      <th>35</th>\n",
       "      <td>10.3</td>\n",
       "      <td>10.01</td>\n",
       "    </tr>\n",
       "    <tr>\n",
       "      <th>36</th>\n",
       "      <td>10.6</td>\n",
       "      <td>10.76</td>\n",
       "    </tr>\n",
       "    <tr>\n",
       "      <th>37</th>\n",
       "      <td>14.1</td>\n",
       "      <td>13.97</td>\n",
       "    </tr>\n",
       "    <tr>\n",
       "      <th>38</th>\n",
       "      <td>12.6</td>\n",
       "      <td>12.00</td>\n",
       "    </tr>\n",
       "    <tr>\n",
       "      <th>39</th>\n",
       "      <td>10.5</td>\n",
       "      <td>10.17</td>\n",
       "    </tr>\n",
       "    <tr>\n",
       "      <th>40</th>\n",
       "      <td>10.3</td>\n",
       "      <td>9.79</td>\n",
       "    </tr>\n",
       "    <tr>\n",
       "      <th>41</th>\n",
       "      <td>13.0</td>\n",
       "      <td>12.77</td>\n",
       "    </tr>\n",
       "    <tr>\n",
       "      <th>42</th>\n",
       "      <td>12.4</td>\n",
       "      <td>10.45</td>\n",
       "    </tr>\n",
       "    <tr>\n",
       "      <th>43</th>\n",
       "      <td>11.4</td>\n",
       "      <td>12.18</td>\n",
       "    </tr>\n",
       "    <tr>\n",
       "      <th>44</th>\n",
       "      <td>12.7</td>\n",
       "      <td>13.15</td>\n",
       "    </tr>\n",
       "    <tr>\n",
       "      <th>45</th>\n",
       "      <td>12.5</td>\n",
       "      <td>12.39</td>\n",
       "    </tr>\n",
       "    <tr>\n",
       "      <th>46</th>\n",
       "      <td>7.0</td>\n",
       "      <td>7.18</td>\n",
       "    </tr>\n",
       "  </tbody>\n",
       "</table>\n",
       "</div>"
      ],
      "text/plain": [
       "    Actual Testdata Quota  Predicted Quota\n",
       "0                     9.8             9.69\n",
       "1                    10.8            10.40\n",
       "2                    12.6            11.90\n",
       "3                    10.9            11.03\n",
       "4                    11.8            11.22\n",
       "5                     7.4             8.33\n",
       "6                     7.6             7.31\n",
       "7                    12.0            11.84\n",
       "8                     9.5             9.09\n",
       "9                    11.7            11.58\n",
       "10                    7.4             7.41\n",
       "11                   11.4            10.24\n",
       "12                   10.2             9.50\n",
       "13                   15.0            14.03\n",
       "14                    9.7            10.50\n",
       "15                    9.6            10.34\n",
       "16                   10.9            10.51\n",
       "17                   10.5            10.57\n",
       "18                    7.1             7.51\n",
       "19                   12.7            10.95\n",
       "20                   13.0            13.53\n",
       "21                    9.8            10.25\n",
       "22                    9.0             9.56\n",
       "23                   13.5            12.64\n",
       "24                   10.5            11.01\n",
       "25                   10.5            10.81\n",
       "26                    7.8             7.99\n",
       "27                   11.8            11.00\n",
       "28                   11.0            10.72\n",
       "29                   11.3            11.91\n",
       "30                    9.7             9.85\n",
       "31                    9.6            10.49\n",
       "32                    8.5             8.93\n",
       "33                    8.9             9.81\n",
       "34                   11.2            11.01\n",
       "35                   10.3            10.01\n",
       "36                   10.6            10.76\n",
       "37                   14.1            13.97\n",
       "38                   12.6            12.00\n",
       "39                   10.5            10.17\n",
       "40                   10.3             9.79\n",
       "41                   13.0            12.77\n",
       "42                   12.4            10.45\n",
       "43                   11.4            12.18\n",
       "44                   12.7            13.15\n",
       "45                   12.5            12.39\n",
       "46                    7.0             7.18"
      ]
     },
     "execution_count": 81,
     "metadata": {},
     "output_type": "execute_result"
    }
   ],
   "source": [
    "compare = pd.DataFrame({'Actual Testdata Quota': y_test.flatten(), 'Predicted Quota': np.round(y_pred.flatten(),2)})\n",
    "compare"
   ]
  },
  {
   "cell_type": "code",
   "execution_count": 82,
   "metadata": {},
   "outputs": [
    {
     "data": {
      "image/png": "[encoded data removed]",
      "text/plain": [
       "<Figure size 1152x648 with 1 Axes>"
      ]
     },
     "metadata": {},
     "output_type": "display_data"
    }
   ],
   "source": [
    "%matplotlib inline\n",
    "import matplotlib.pyplot as plt\n",
    "plt.style.use('seaborn-whitegrid')\n",
    "fig = plt.figure(figsize=(16, 9))\n",
    "import numpy as np\n",
    "\n",
    "rmse = np.sqrt(mean_squared_error(y_test, y_pred))\n",
    "#y = np.sin(x) + dy * np.random.randn(50)\n",
    "yp = compare['Predicted Quota'].to_numpy().flatten()\n",
    "y = compare['Actual Testdata Quota'].to_numpy().flatten()\n",
    "x = compare.index\n",
    "\n",
    "plt.errorbar(x, yp, yerr=rmse, fmt='.k', marker=\"H\", capsize=5, ms=8)\n",
    "plt.scatter(x, y, c='blue', marker='x', s=100)\n",
    "plt.legend([\"Actual Testdata Quota\", \"Predicted Quota\"], fontsize=17)\n",
    "plt.title(\"Predicted and Actual Testdata Quotas for winning tier 8\", fontsize=20)\n",
    "plt.xlabel('Testdata observations', fontsize=16)\n",
    "plt.ylabel('Quota in EUR', fontsize=16)\n",
    "plt.show()"
   ]
  },
  {
   "cell_type": "markdown",
   "metadata": {},
   "source": [
    "The root mean squared percentage error in our predictions is 5.95 % or 0.653 EUR, which is inline with our expectations to have at least an approximate ballpark figure, without necessarily hitting the exact Quota on the head each and every time. This error percentage is already mildy optimized and not just a randomly generated model with an random prediction error. We rather have to accept that other complex factors such as inter-number-relations are at play as well that were not yet taken into account already. In that light there is hardly anything more than marginal improvement possible with the prepared features in place."
   ]
  },
  {
   "cell_type": "markdown",
   "metadata": {},
   "source": [
    "#### Compare also with best single model (Epsilon-Support Vector Regression & Kernel Ridge) on Test Data"
   ]
  },
  {
   "cell_type": "code",
   "execution_count": 83,
   "metadata": {},
   "outputs": [
    {
     "name": "stdout",
     "output_type": "stream",
     "text": [
      "Mean Squared Error: [0.42263700]\n",
      "Root Mean Squared Error: [0.65010537]\n",
      "Root Mean Squared Percentage Error:  5.93 %\n",
      "R2 score: [0.87762963]\n"
     ]
    }
   ],
   "source": [
    "svrmodel = SVR(**svr_param)\n",
    "svrmodel = svrmodel.fit(X_train, y_train)\n",
    "y_pred = svrmodel.predict(X_test)\n",
    "print('Mean Squared Error: [%.8f]' % mean_squared_error(y_test, y_pred))\n",
    "print('Root Mean Squared Error: [%.8f]' % np.sqrt(mean_squared_error(y_test, y_pred)))\n",
    "print('Root Mean Squared Percentage Error: ', round(rmspe(y_test, y_pred),2), '%')\n",
    "print('R2 score: [%.8f]' % metrics.r2_score(y_test, y_pred))"
   ]
  },
  {
   "cell_type": "markdown",
   "metadata": {},
   "source": [
    "SVR as single model prevails in this instance against the outlined stacked model. As both results are are virtually identical we waive to chart another plot."
   ]
  },
  {
   "cell_type": "markdown",
   "metadata": {},
   "source": [
    "### Predict the winning tier 8 quota for your numbers"
   ]
  },
  {
   "cell_type": "markdown",
   "metadata": {},
   "source": [
    "We want to test the model with an real oberservation of 22-Jan-20 which is new data and the model was not trained for."
   ]
  },
  {
   "cell_type": "code",
   "execution_count": 84,
   "metadata": {},
   "outputs": [
    {
     "name": "stdout",
     "output_type": "stream",
     "text": [
      "The estimated quota for the given numbers and winning tier is: 9.59 EUR +/- RMSE 0.65 EUR\n"
     ]
    }
   ],
   "source": [
    "###################################################################\n",
    "#predict the quota for your numbers / or an observed number drawing\n",
    "my_numbers = [3, 16, 23, 33, 41, 47]\n",
    "my_superzahl = [4]\n",
    "date = ('22.01.20')\n",
    "#predict the quota for your numbers / or an observed number drawing\n",
    "###################################################################\n",
    "\n",
    "def sparse_superzahl_df(df, numbers=1, pop=10, start=0): # custom hot encoding\n",
    "    for i in range(start,pop+start):\n",
    "        df.loc[:,'S' + str(i)] = pd.Series(np.zeros((len(df)))) #sparse cols\n",
    "    df = df.fillna(0) # zero prefilled\n",
    "    num = range(start,numbers+start)\n",
    "    for index, row in df.iterrows(): # each observation\n",
    "            dn = df.loc[index,'S'].copy()\n",
    "            df.loc[index,'S' + str(dn)] = 1 # sparsing\n",
    "    return df\n",
    "\n",
    "def DFprediction(my_numbers, my_superzahl=0, date=['dummy']):\n",
    "    import itertools\n",
    "    data = [date,my_numbers, my_superzahl]\n",
    "    data = list(itertools.chain.from_iterable(data))\n",
    "    cols = ['Date', 'G1', 'G2','G3', 'G4','G5', 'G6', 'S']\n",
    "    df = pd.DataFrame([data], columns = cols, index=[0])\n",
    "    df = sparsedf(df) # reg numbers\n",
    "    df = sparse_superzahl_df(df) # superzahl\n",
    "    df =  df.iloc[:,8:len(df.columns)]\n",
    "    X_array = df.to_numpy()\n",
    "    S_observation = stack.transform(X_array)\n",
    "    return np.round(model_l2.predict(S_observation),2)\n",
    "\n",
    "print('The estimated quota for the given numbers and winning tier is: %.2f EUR' % DFprediction(my_numbers, my_superzahl), \n",
    "      '+/- RMSE %.2f EUR' % np.sqrt(mean_squared_error(y_test, y_pred)))"
   ]
  },
  {
   "cell_type": "markdown",
   "metadata": {},
   "source": [
    "The actual winning quota in tier 8 was 9.40 EUR. Hence the prediction was quite good. We could have predicted the quota already right after the drawing in the evening of 22nd while we do not need to wait for the official quota publication the next day. Sometimes even later than that."
   ]
  },
  {
   "cell_type": "markdown",
   "metadata": {},
   "source": [
    "## Appendix: Random Lotto Draw Generator/Sampler (Uniform distribution)"
   ]
  },
  {
   "cell_type": "code",
   "execution_count": 85,
   "metadata": {
    "scrolled": true
   },
   "outputs": [
    {
     "data": {
      "text/plain": [
       "[array([20, 22, 43, 44, 47, 49]),\n",
       " array([ 4, 24, 37, 38, 39, 45]),\n",
       " array([19, 24, 33, 38, 43, 44]),\n",
       " array([ 1,  2,  3,  6, 18, 39])]"
      ]
     },
     "execution_count": 85,
     "metadata": {},
     "output_type": "execute_result"
    }
   ],
   "source": [
    "# k draws out of n without replacement --> use the random.sample function\n",
    "\n",
    "# simulate how many drawings?\n",
    "sampling_cycles = 314\n",
    "\n",
    "# 6 out of 49 Lotto draw function\n",
    "def lottodraw():\n",
    "    import random\n",
    "    draw = np.array(random.sample(range(1,50), 6))\n",
    "    return np.sort(draw)\n",
    "\n",
    "# call cycles\n",
    "yy = [lottodraw() for w in range(sampling_cycles)]\n",
    "# show last three lotto draw sessions\n",
    "yy[306:310]"
   ]
  },
  {
   "cell_type": "code",
   "execution_count": 86,
   "metadata": {
    "scrolled": true
   },
   "outputs": [
    {
     "data": {
      "text/plain": [
       "1884"
      ]
     },
     "execution_count": 86,
     "metadata": {},
     "output_type": "execute_result"
    }
   ],
   "source": [
    "yy = np.array(yy).flatten()\n",
    "#frequency of numbers drawn altogether\n",
    "len(yy)"
   ]
  },
  {
   "cell_type": "code",
   "execution_count": 87,
   "metadata": {
    "scrolled": true
   },
   "outputs": [],
   "source": [
    "# break it down to each number in the population\n",
    "unique_elements, counts_elements = np.unique(yy, return_counts=True)"
   ]
  },
  {
   "cell_type": "code",
   "execution_count": 88,
   "metadata": {
    "scrolled": true
   },
   "outputs": [
    {
     "data": {
      "text/plain": [
       "38.44897959183673"
      ]
     },
     "execution_count": 88,
     "metadata": {},
     "output_type": "execute_result"
    }
   ],
   "source": [
    "count = pd.DataFrame(counts_elements.reshape(1,-1), columns=[unique_elements])\n",
    "\n",
    "# Expected frequency for each uniformly distributed number\n",
    "counts_elements.mean()"
   ]
  }
 ],
 "metadata": {
  "kernelspec": {
   "display_name": "Python 3",
   "language": "python",
   "name": "python3"
  },
  "language_info": {
   "codemirror_mode": {
    "name": "ipython",
    "version": 3
   },
   "file_extension": ".py",
   "mimetype": "text/x-python",
   "name": "python",
   "nbconvert_exporter": "python",
   "pygments_lexer": "ipython3",
   "version": "3.6.13"
  }
 },
 "nbformat": 4,
 "nbformat_minor": 2
}
